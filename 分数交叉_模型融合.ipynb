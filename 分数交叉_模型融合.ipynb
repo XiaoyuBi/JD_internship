{
 "cells": [
  {
   "cell_type": "code",
   "execution_count": 208,
   "metadata": {},
   "outputs": [],
   "source": [
    "import pandas as pd\n",
    "import numpy as np\n",
    "from sklearn.metrics import roc_curve, auc\n",
    "import matplotlib.pyplot as plt"
   ]
  },
  {
   "cell_type": "code",
   "execution_count": 3,
   "metadata": {},
   "outputs": [],
   "source": [
    "def split_month(x):\n",
    "    return x[0]\n",
    "\n",
    "def split_type(x):\n",
    "    return x[1:]"
   ]
  },
  {
   "cell_type": "code",
   "execution_count": 4,
   "metadata": {},
   "outputs": [],
   "source": [
    "df = pd.read_csv('result.txt', sep = '\\t', header = 0)"
   ]
  },
  {
   "cell_type": "code",
   "execution_count": 5,
   "metadata": {},
   "outputs": [],
   "source": [
    "df['month'] = df['case_type'].map(split_month)\n",
    "df['type'] = df['case_type'].map(split_type)"
   ]
  },
  {
   "cell_type": "code",
   "execution_count": 6,
   "metadata": {},
   "outputs": [
    {
     "data": {
      "text/html": [
       "<div>\n",
       "<style scoped>\n",
       "    .dataframe tbody tr th:only-of-type {\n",
       "        vertical-align: middle;\n",
       "    }\n",
       "\n",
       "    .dataframe tbody tr th {\n",
       "        vertical-align: top;\n",
       "    }\n",
       "\n",
       "    .dataframe thead th {\n",
       "        text-align: right;\n",
       "    }\n",
       "</style>\n",
       "<table border=\"1\" class=\"dataframe\">\n",
       "  <thead>\n",
       "    <tr style=\"text-align: right;\">\n",
       "      <th></th>\n",
       "      <th>pin</th>\n",
       "      <th>product</th>\n",
       "      <th>case_type</th>\n",
       "      <th>xc_score</th>\n",
       "      <th>dt</th>\n",
       "      <th>ovd_stage</th>\n",
       "      <th>c_score</th>\n",
       "      <th>timing_score</th>\n",
       "      <th>overdue_amt</th>\n",
       "      <th>pay_amount_t3</th>\n",
       "      <th>pay_amount_t15</th>\n",
       "      <th>pay_amount_t30</th>\n",
       "      <th>c_label_t3</th>\n",
       "      <th>c_label_t15</th>\n",
       "      <th>c_label_t30</th>\n",
       "      <th>overdue_amt_tel</th>\n",
       "      <th>month</th>\n",
       "      <th>type</th>\n",
       "    </tr>\n",
       "  </thead>\n",
       "  <tbody>\n",
       "    <tr>\n",
       "      <th>0</th>\n",
       "      <td>jd_5d6236d287be6</td>\n",
       "      <td>京东白条</td>\n",
       "      <td>6B2+</td>\n",
       "      <td>591</td>\n",
       "      <td>2020-08-21</td>\n",
       "      <td>301-390</td>\n",
       "      <td>457.0</td>\n",
       "      <td>557.0</td>\n",
       "      <td>2204.57</td>\n",
       "      <td>NaN</td>\n",
       "      <td>NaN</td>\n",
       "      <td>NaN</td>\n",
       "      <td>0</td>\n",
       "      <td>0</td>\n",
       "      <td>0</td>\n",
       "      <td>2964.21</td>\n",
       "      <td>6</td>\n",
       "      <td>B2+</td>\n",
       "    </tr>\n",
       "    <tr>\n",
       "      <th>1</th>\n",
       "      <td>jd_729d4cd6980c0</td>\n",
       "      <td>京东白条</td>\n",
       "      <td>7B2+</td>\n",
       "      <td>374</td>\n",
       "      <td>2020-08-16</td>\n",
       "      <td>301-390</td>\n",
       "      <td>510.0</td>\n",
       "      <td>557.0</td>\n",
       "      <td>3500.00</td>\n",
       "      <td>NaN</td>\n",
       "      <td>NaN</td>\n",
       "      <td>NaN</td>\n",
       "      <td>0</td>\n",
       "      <td>0</td>\n",
       "      <td>0</td>\n",
       "      <td>4070.09</td>\n",
       "      <td>7</td>\n",
       "      <td>B2+</td>\n",
       "    </tr>\n",
       "    <tr>\n",
       "      <th>2</th>\n",
       "      <td>15194992249_p</td>\n",
       "      <td>京东白条</td>\n",
       "      <td>7B1+</td>\n",
       "      <td>311</td>\n",
       "      <td>2020-08-02</td>\n",
       "      <td>M7</td>\n",
       "      <td>554.0</td>\n",
       "      <td>559.0</td>\n",
       "      <td>2376.01</td>\n",
       "      <td>NaN</td>\n",
       "      <td>NaN</td>\n",
       "      <td>NaN</td>\n",
       "      <td>0</td>\n",
       "      <td>0</td>\n",
       "      <td>0</td>\n",
       "      <td>2801.94</td>\n",
       "      <td>7</td>\n",
       "      <td>B1+</td>\n",
       "    </tr>\n",
       "    <tr>\n",
       "      <th>3</th>\n",
       "      <td>jd_4136814ed4672</td>\n",
       "      <td>京东白条</td>\n",
       "      <td>7B2+</td>\n",
       "      <td>296</td>\n",
       "      <td>2020-08-10</td>\n",
       "      <td>301-390</td>\n",
       "      <td>469.0</td>\n",
       "      <td>557.0</td>\n",
       "      <td>2407.65</td>\n",
       "      <td>NaN</td>\n",
       "      <td>NaN</td>\n",
       "      <td>NaN</td>\n",
       "      <td>0</td>\n",
       "      <td>0</td>\n",
       "      <td>0</td>\n",
       "      <td>3041.14</td>\n",
       "      <td>7</td>\n",
       "      <td>B2+</td>\n",
       "    </tr>\n",
       "    <tr>\n",
       "      <th>4</th>\n",
       "      <td>超级大么么哒</td>\n",
       "      <td>京东白条</td>\n",
       "      <td>7B2+</td>\n",
       "      <td>367</td>\n",
       "      <td>2020-08-11</td>\n",
       "      <td>391+</td>\n",
       "      <td>543.0</td>\n",
       "      <td>556.0</td>\n",
       "      <td>884.96</td>\n",
       "      <td>NaN</td>\n",
       "      <td>NaN</td>\n",
       "      <td>NaN</td>\n",
       "      <td>0</td>\n",
       "      <td>0</td>\n",
       "      <td>0</td>\n",
       "      <td>1215.35</td>\n",
       "      <td>7</td>\n",
       "      <td>B2+</td>\n",
       "    </tr>\n",
       "    <tr>\n",
       "      <th>...</th>\n",
       "      <td>...</td>\n",
       "      <td>...</td>\n",
       "      <td>...</td>\n",
       "      <td>...</td>\n",
       "      <td>...</td>\n",
       "      <td>...</td>\n",
       "      <td>...</td>\n",
       "      <td>...</td>\n",
       "      <td>...</td>\n",
       "      <td>...</td>\n",
       "      <td>...</td>\n",
       "      <td>...</td>\n",
       "      <td>...</td>\n",
       "      <td>...</td>\n",
       "      <td>...</td>\n",
       "      <td>...</td>\n",
       "      <td>...</td>\n",
       "      <td>...</td>\n",
       "    </tr>\n",
       "    <tr>\n",
       "      <th>855695</th>\n",
       "      <td>飞飞1235270</td>\n",
       "      <td>京东白条</td>\n",
       "      <td>7B2+</td>\n",
       "      <td>296</td>\n",
       "      <td>2020-08-14</td>\n",
       "      <td>301-390</td>\n",
       "      <td>524.0</td>\n",
       "      <td>557.0</td>\n",
       "      <td>1233.99</td>\n",
       "      <td>NaN</td>\n",
       "      <td>NaN</td>\n",
       "      <td>NaN</td>\n",
       "      <td>0</td>\n",
       "      <td>0</td>\n",
       "      <td>0</td>\n",
       "      <td>1490.08</td>\n",
       "      <td>7</td>\n",
       "      <td>B2+</td>\n",
       "    </tr>\n",
       "    <tr>\n",
       "      <th>855696</th>\n",
       "      <td>26026274-155333</td>\n",
       "      <td>京东白条</td>\n",
       "      <td>7B1+</td>\n",
       "      <td>303</td>\n",
       "      <td>2020-08-07</td>\n",
       "      <td>211-300</td>\n",
       "      <td>530.0</td>\n",
       "      <td>555.0</td>\n",
       "      <td>2560.61</td>\n",
       "      <td>NaN</td>\n",
       "      <td>NaN</td>\n",
       "      <td>NaN</td>\n",
       "      <td>0</td>\n",
       "      <td>0</td>\n",
       "      <td>0</td>\n",
       "      <td>2952.63</td>\n",
       "      <td>7</td>\n",
       "      <td>B1+</td>\n",
       "    </tr>\n",
       "    <tr>\n",
       "      <th>855697</th>\n",
       "      <td>jd_7ae4d335a1007</td>\n",
       "      <td>京东白条</td>\n",
       "      <td>7B1+</td>\n",
       "      <td>296</td>\n",
       "      <td>2020-08-02</td>\n",
       "      <td>M7</td>\n",
       "      <td>561.0</td>\n",
       "      <td>559.0</td>\n",
       "      <td>1599.47</td>\n",
       "      <td>NaN</td>\n",
       "      <td>NaN</td>\n",
       "      <td>NaN</td>\n",
       "      <td>0</td>\n",
       "      <td>0</td>\n",
       "      <td>0</td>\n",
       "      <td>1852.34</td>\n",
       "      <td>7</td>\n",
       "      <td>B1+</td>\n",
       "    </tr>\n",
       "    <tr>\n",
       "      <th>855698</th>\n",
       "      <td>jd_7ccc983ced537</td>\n",
       "      <td>京东白条</td>\n",
       "      <td>8B2+</td>\n",
       "      <td>-1</td>\n",
       "      <td>2020-08-10</td>\n",
       "      <td>391+</td>\n",
       "      <td>462.0</td>\n",
       "      <td>557.0</td>\n",
       "      <td>6079.54</td>\n",
       "      <td>NaN</td>\n",
       "      <td>NaN</td>\n",
       "      <td>NaN</td>\n",
       "      <td>0</td>\n",
       "      <td>0</td>\n",
       "      <td>0</td>\n",
       "      <td>11423.55</td>\n",
       "      <td>8</td>\n",
       "      <td>B2+</td>\n",
       "    </tr>\n",
       "    <tr>\n",
       "      <th>855699</th>\n",
       "      <td>18674002602_p</td>\n",
       "      <td>京东白条</td>\n",
       "      <td>6B2+</td>\n",
       "      <td>297</td>\n",
       "      <td>2020-08-19</td>\n",
       "      <td>391+</td>\n",
       "      <td>479.0</td>\n",
       "      <td>564.0</td>\n",
       "      <td>6800.14</td>\n",
       "      <td>NaN</td>\n",
       "      <td>NaN</td>\n",
       "      <td>NaN</td>\n",
       "      <td>0</td>\n",
       "      <td>0</td>\n",
       "      <td>0</td>\n",
       "      <td>8842.16</td>\n",
       "      <td>6</td>\n",
       "      <td>B2+</td>\n",
       "    </tr>\n",
       "  </tbody>\n",
       "</table>\n",
       "<p>855700 rows × 18 columns</p>\n",
       "</div>"
      ],
      "text/plain": [
       "                     pin product case_type  xc_score          dt ovd_stage  \\\n",
       "0       jd_5d6236d287be6    京东白条      6B2+       591  2020-08-21   301-390   \n",
       "1       jd_729d4cd6980c0    京东白条      7B2+       374  2020-08-16   301-390   \n",
       "2          15194992249_p    京东白条      7B1+       311  2020-08-02        M7   \n",
       "3       jd_4136814ed4672    京东白条      7B2+       296  2020-08-10   301-390   \n",
       "4                 超级大么么哒    京东白条      7B2+       367  2020-08-11      391+   \n",
       "...                  ...     ...       ...       ...         ...       ...   \n",
       "855695         飞飞1235270    京东白条      7B2+       296  2020-08-14   301-390   \n",
       "855696   26026274-155333    京东白条      7B1+       303  2020-08-07   211-300   \n",
       "855697  jd_7ae4d335a1007    京东白条      7B1+       296  2020-08-02        M7   \n",
       "855698  jd_7ccc983ced537    京东白条      8B2+        -1  2020-08-10      391+   \n",
       "855699     18674002602_p    京东白条      6B2+       297  2020-08-19      391+   \n",
       "\n",
       "        c_score  timing_score  overdue_amt  pay_amount_t3  pay_amount_t15  \\\n",
       "0         457.0         557.0      2204.57            NaN             NaN   \n",
       "1         510.0         557.0      3500.00            NaN             NaN   \n",
       "2         554.0         559.0      2376.01            NaN             NaN   \n",
       "3         469.0         557.0      2407.65            NaN             NaN   \n",
       "4         543.0         556.0       884.96            NaN             NaN   \n",
       "...         ...           ...          ...            ...             ...   \n",
       "855695    524.0         557.0      1233.99            NaN             NaN   \n",
       "855696    530.0         555.0      2560.61            NaN             NaN   \n",
       "855697    561.0         559.0      1599.47            NaN             NaN   \n",
       "855698    462.0         557.0      6079.54            NaN             NaN   \n",
       "855699    479.0         564.0      6800.14            NaN             NaN   \n",
       "\n",
       "        pay_amount_t30  c_label_t3  c_label_t15  c_label_t30  overdue_amt_tel  \\\n",
       "0                  NaN           0            0            0          2964.21   \n",
       "1                  NaN           0            0            0          4070.09   \n",
       "2                  NaN           0            0            0          2801.94   \n",
       "3                  NaN           0            0            0          3041.14   \n",
       "4                  NaN           0            0            0          1215.35   \n",
       "...                ...         ...          ...          ...              ...   \n",
       "855695             NaN           0            0            0          1490.08   \n",
       "855696             NaN           0            0            0          2952.63   \n",
       "855697             NaN           0            0            0          1852.34   \n",
       "855698             NaN           0            0            0         11423.55   \n",
       "855699             NaN           0            0            0          8842.16   \n",
       "\n",
       "       month type  \n",
       "0          6  B2+  \n",
       "1          7  B2+  \n",
       "2          7  B1+  \n",
       "3          7  B2+  \n",
       "4          7  B2+  \n",
       "...      ...  ...  \n",
       "855695     7  B2+  \n",
       "855696     7  B1+  \n",
       "855697     7  B1+  \n",
       "855698     8  B2+  \n",
       "855699     6  B2+  \n",
       "\n",
       "[855700 rows x 18 columns]"
      ]
     },
     "execution_count": 6,
     "metadata": {},
     "output_type": "execute_result"
    }
   ],
   "source": [
    "df"
   ]
  },
  {
   "cell_type": "markdown",
   "metadata": {},
   "source": [
    "## 数据概况 ##"
   ]
  },
  {
   "cell_type": "markdown",
   "metadata": {},
   "source": [
    "......"
   ]
  },
  {
   "cell_type": "markdown",
   "metadata": {},
   "source": [
    "## xc_score on c_label KS ##"
   ]
  },
  {
   "cell_type": "code",
   "execution_count": 7,
   "metadata": {},
   "outputs": [],
   "source": [
    "# 仅保留白条数据\n",
    "df = df[df['product'] == '京东白条']"
   ]
  },
  {
   "cell_type": "code",
   "execution_count": 8,
   "metadata": {},
   "outputs": [],
   "source": [
    "def calc_ks_auc(data):\n",
    "    '''\n",
    "    功能: 计算KS值，输出对应分割点和累计分布函数曲线图\n",
    "    输入值:\n",
    "    data: 二维数组或dataframe，包括模型得分和真实的标签\n",
    "    pred: 一维数组或series，代表模型得分（一般为预测正类的概率）\n",
    "    y_label: 一维数组或series，代表真实的标签（{0,1}或{-1,1}）\n",
    "    输出值:\n",
    "    'ks': KS值, 'auc_score': auc值\n",
    "    '''\n",
    "    fpr,tpr,thresholds = roc_curve(data.iloc[:,0], data.iloc[:,1])\n",
    "    #print(fpr, tpr, thresholds, sep = '\\n')\n",
    "    ks = max(tpr-fpr)\n",
    "    auc_score = auc(fpr, tpr)\n",
    "    #plt.plot(fpr, tpr, color='darkorange', lw=2) ###假正率为横坐标，真正率为纵坐标做曲线\n",
    "    return ks"
   ]
  },
  {
   "cell_type": "code",
   "execution_count": 9,
   "metadata": {},
   "outputs": [],
   "source": [
    "type_list = ['B1+','B1+WEAK','B2','B2+','B2+WEAK']"
   ]
  },
  {
   "cell_type": "code",
   "execution_count": 10,
   "metadata": {},
   "outputs": [
    {
     "name": "stderr",
     "output_type": "stream",
     "text": [
      "/opt/conda/envs/Python3/lib/python3.6/site-packages/ipykernel_launcher.py:3: SettingWithCopyWarning: \n",
      "A value is trying to be set on a copy of a slice from a DataFrame\n",
      "\n",
      "See the caveats in the documentation: https://pandas.pydata.org/pandas-docs/stable/user_guide/indexing.html#returning-a-view-versus-a-copy\n",
      "  This is separate from the ipykernel package so we can avoid doing imports until\n"
     ]
    },
    {
     "name": "stdout",
     "output_type": "stream",
     "text": [
      "xc_score on c_label_t3 KS:  0.2281237573995861\n",
      "c_score on c_label_t3 KS:  0.3477309265998534\n",
      "timing_score on c_label_t3 KS:  0.18219218718374747\n",
      "xc_score on c_label_t15 KS:  0.1682102783724292\n",
      "c_score on c_label_t15 KS:  0.2774539830228115\n",
      "timing_score on c_label_t15 KS:  0.14666897730334477\n",
      "xc_score on c_label_t30 KS:  0.14230828396231526\n",
      "c_score on c_label_t30 KS:  0.26451383166862297\n",
      "timing_score on c_label_t30 KS:  0.1287605777219406\n"
     ]
    }
   ],
   "source": [
    "# 去除打分为 -1 的, 去除空值\n",
    "df_temp = df[df['xc_score'] != -1]\n",
    "df_temp.dropna(subset = ['xc_score', 'c_score', 'timing_score'], inplace = True)\n",
    "print('xc_score on c_label_t3 KS: ', calc_ks_auc(df_temp[['c_label_t3', 'xc_score']]))\n",
    "print('c_score on c_label_t3 KS: ', calc_ks_auc(df_temp[['c_label_t3', 'c_score']]))\n",
    "print('timing_score on c_label_t3 KS: ', calc_ks_auc(df_temp[['c_label_t3', 'timing_score']]))\n",
    "print('xc_score on c_label_t15 KS: ', calc_ks_auc(df_temp[['c_label_t15', 'xc_score']]))\n",
    "print('c_score on c_label_t15 KS: ', calc_ks_auc(df_temp[['c_label_t15', 'c_score']]))\n",
    "print('timing_score on c_label_t15 KS: ', calc_ks_auc(df_temp[['c_label_t15', 'timing_score']]))\n",
    "# t30评估，去除非表现期的\n",
    "df_temp_t30 = df_temp[df_temp['dt'] <= '2020-08-20']\n",
    "print('xc_score on c_label_t30 KS: ', calc_ks_auc(df_temp_t30[['c_label_t30', 'xc_score']]))\n",
    "print('c_score on c_label_t30 KS: ', calc_ks_auc(df_temp_t30[['c_label_t30', 'c_score']]))\n",
    "print('timing_score on c_label_t30 KS: ', calc_ks_auc(df_temp_t30[['c_label_t30', 'timing_score']]))"
   ]
  },
  {
   "cell_type": "code",
   "execution_count": 16,
   "metadata": {},
   "outputs": [
    {
     "name": "stdout",
     "output_type": "stream",
     "text": [
      "0.09884236402504068\n",
      "0.08913412563667232\n",
      "0.07258409428955556\n",
      "0.06333699072738147\n",
      "0.4409484724122207\n"
     ]
    }
   ],
   "source": [
    "#分案件类别看KS\n",
    "for ty in type_list:\n",
    "    df_temp_type = df_temp[df_temp['type'] == ty]\n",
    "    print(calc_ks_auc(df_temp_type[['c_label_t15', 'timing_score']]))"
   ]
  },
  {
   "cell_type": "code",
   "execution_count": 19,
   "metadata": {},
   "outputs": [
    {
     "name": "stdout",
     "output_type": "stream",
     "text": [
      "0.09196330663914012\n",
      "0.036141804788213626\n",
      "0.0511006505411908\n",
      "0.08598717835212322\n",
      "0.11713191023535849\n"
     ]
    }
   ],
   "source": [
    "#t30\n",
    "for ty in type_list:\n",
    "    df_temp_type = df_temp[df_temp['type'] == ty]\n",
    "    print(calc_ks_auc(df_temp_type[['c_label_t30', 'timing_score']]))"
   ]
  },
  {
   "cell_type": "markdown",
   "metadata": {},
   "source": [
    "## 分组区分能力 ##"
   ]
  },
  {
   "cell_type": "code",
   "execution_count": 20,
   "metadata": {},
   "outputs": [],
   "source": [
    "# 分组\n",
    "bins_timing = [554, 556, 557, 558, 559, 560, 562, 627]\n",
    "bins_xc = [164, 296, 297, 303, 329, 376, 422, 665]\n",
    "bins_c = [449, 486, 500, 512, 526, 538, 552, 721]"
   ]
  },
  {
   "cell_type": "code",
   "execution_count": 21,
   "metadata": {},
   "outputs": [
    {
     "name": "stderr",
     "output_type": "stream",
     "text": [
      "/opt/conda/envs/Python3/lib/python3.6/site-packages/ipykernel_launcher.py:1: SettingWithCopyWarning: \n",
      "A value is trying to be set on a copy of a slice from a DataFrame.\n",
      "Try using .loc[row_indexer,col_indexer] = value instead\n",
      "\n",
      "See the caveats in the documentation: https://pandas.pydata.org/pandas-docs/stable/user_guide/indexing.html#returning-a-view-versus-a-copy\n",
      "  \"\"\"Entry point for launching an IPython kernel.\n",
      "/opt/conda/envs/Python3/lib/python3.6/site-packages/ipykernel_launcher.py:2: SettingWithCopyWarning: \n",
      "A value is trying to be set on a copy of a slice from a DataFrame.\n",
      "Try using .loc[row_indexer,col_indexer] = value instead\n",
      "\n",
      "See the caveats in the documentation: https://pandas.pydata.org/pandas-docs/stable/user_guide/indexing.html#returning-a-view-versus-a-copy\n",
      "  \n",
      "/opt/conda/envs/Python3/lib/python3.6/site-packages/ipykernel_launcher.py:3: SettingWithCopyWarning: \n",
      "A value is trying to be set on a copy of a slice from a DataFrame.\n",
      "Try using .loc[row_indexer,col_indexer] = value instead\n",
      "\n",
      "See the caveats in the documentation: https://pandas.pydata.org/pandas-docs/stable/user_guide/indexing.html#returning-a-view-versus-a-copy\n",
      "  This is separate from the ipykernel package so we can avoid doing imports until\n"
     ]
    }
   ],
   "source": [
    "df_temp['xc_score_qcut'] = pd.cut(df['xc_score'], bins = bins_xc)\n",
    "df_temp['c_score_qcut'] = pd.cut(df['c_score'], bins = bins_c)\n",
    "df_temp['timing_score_qcut'] = pd.cut(df['timing_score'], bins = bins_timing)"
   ]
  },
  {
   "cell_type": "code",
   "execution_count": 29,
   "metadata": {},
   "outputs": [
    {
     "name": "stderr",
     "output_type": "stream",
     "text": [
      "/opt/conda/envs/Python3/lib/python3.6/site-packages/ipykernel_launcher.py:1: SettingWithCopyWarning: \n",
      "A value is trying to be set on a copy of a slice from a DataFrame.\n",
      "Try using .loc[row_indexer,col_indexer] = value instead\n",
      "\n",
      "See the caveats in the documentation: https://pandas.pydata.org/pandas-docs/stable/user_guide/indexing.html#returning-a-view-versus-a-copy\n",
      "  \"\"\"Entry point for launching an IPython kernel.\n",
      "/opt/conda/envs/Python3/lib/python3.6/site-packages/ipykernel_launcher.py:2: SettingWithCopyWarning: \n",
      "A value is trying to be set on a copy of a slice from a DataFrame.\n",
      "Try using .loc[row_indexer,col_indexer] = value instead\n",
      "\n",
      "See the caveats in the documentation: https://pandas.pydata.org/pandas-docs/stable/user_guide/indexing.html#returning-a-view-versus-a-copy\n",
      "  \n",
      "/opt/conda/envs/Python3/lib/python3.6/site-packages/ipykernel_launcher.py:3: SettingWithCopyWarning: \n",
      "A value is trying to be set on a copy of a slice from a DataFrame.\n",
      "Try using .loc[row_indexer,col_indexer] = value instead\n",
      "\n",
      "See the caveats in the documentation: https://pandas.pydata.org/pandas-docs/stable/user_guide/indexing.html#returning-a-view-versus-a-copy\n",
      "  This is separate from the ipykernel package so we can avoid doing imports until\n"
     ]
    }
   ],
   "source": [
    "df_temp_t30['xc_score_qcut'] = pd.cut(df['xc_score'], bins = bins_xc)\n",
    "df_temp_t30['c_score_qcut'] = pd.cut(df['c_score'], bins = bins_c)\n",
    "df_temp_t30['timing_score_qcut'] = pd.cut(df['timing_score'], bins = bins_timing)"
   ]
  },
  {
   "cell_type": "code",
   "execution_count": 22,
   "metadata": {},
   "outputs": [],
   "source": [
    "df_temp.groupby('xc_score_qcut').count().to_csv('xc_count.txt', sep = '\\t')\n",
    "df_temp.groupby('xc_score_qcut').sum().to_csv('xc_sum.txt', sep = '\\t')\n",
    "df_temp_t30.groupby('xc_score_qcut').count().to_csv('xc_count_t30.txt', sep = '\\t')\n",
    "df_temp_t30.groupby('xc_score_qcut').sum().to_csv('xc_sum_t30.txt', sep = '\\t')"
   ]
  },
  {
   "cell_type": "code",
   "execution_count": 33,
   "metadata": {},
   "outputs": [],
   "source": [
    "df_temp.groupby('c_score_qcut').count().to_csv('c_count.txt', sep = '\\t')\n",
    "df_temp.groupby('c_score_qcut').sum().to_csv('c_sum.txt', sep = '\\t')\n",
    "df_temp_t30.groupby('c_score_qcut').count().to_csv('c_count_t30.txt', sep = '\\t')\n",
    "df_temp_t30.groupby('c_score_qcut').sum().to_csv('c_sum_t30.txt', sep = '\\t')"
   ]
  },
  {
   "cell_type": "code",
   "execution_count": 34,
   "metadata": {},
   "outputs": [],
   "source": [
    "df_temp.groupby('timing_score_qcut').count().to_csv('timing_count.txt', sep = '\\t')\n",
    "df_temp.groupby('timing_score_qcut').sum().to_csv('timing_sum.txt', sep = '\\t')\n",
    "df_temp_t30.groupby('timing_score_qcut').count().to_csv('timing_count_t30.txt', sep = '\\t')\n",
    "df_temp_t30.groupby('timing_score_qcut').sum().to_csv('timing_sum_t30.txt', sep = '\\t')"
   ]
  },
  {
   "cell_type": "markdown",
   "metadata": {},
   "source": [
    "## 分数交叉"
   ]
  },
  {
   "cell_type": "code",
   "execution_count": 45,
   "metadata": {},
   "outputs": [],
   "source": [
    "df_temp_cross1 = df_temp[['xc_score_qcut', 'timing_score_qcut', 'overdue_amt_tel']]\n",
    "df_temp_cross2 = df_temp[['xc_score_qcut', 'timing_score_qcut', 'pay_amount_t15']]"
   ]
  },
  {
   "cell_type": "code",
   "execution_count": 46,
   "metadata": {},
   "outputs": [
    {
     "data": {
      "text/html": [
       "<div>\n",
       "<style scoped>\n",
       "    .dataframe tbody tr th:only-of-type {\n",
       "        vertical-align: middle;\n",
       "    }\n",
       "\n",
       "    .dataframe tbody tr th {\n",
       "        vertical-align: top;\n",
       "    }\n",
       "\n",
       "    .dataframe thead tr th {\n",
       "        text-align: left;\n",
       "    }\n",
       "\n",
       "    .dataframe thead tr:last-of-type th {\n",
       "        text-align: right;\n",
       "    }\n",
       "</style>\n",
       "<table border=\"1\" class=\"dataframe\">\n",
       "  <thead>\n",
       "    <tr>\n",
       "      <th></th>\n",
       "      <th colspan=\"7\" halign=\"left\">overdue_amt_tel</th>\n",
       "    </tr>\n",
       "    <tr>\n",
       "      <th>timing_score_qcut</th>\n",
       "      <th>(554, 556]</th>\n",
       "      <th>(556, 557]</th>\n",
       "      <th>(557, 558]</th>\n",
       "      <th>(558, 559]</th>\n",
       "      <th>(559, 560]</th>\n",
       "      <th>(560, 562]</th>\n",
       "      <th>(562, 627]</th>\n",
       "    </tr>\n",
       "    <tr>\n",
       "      <th>xc_score_qcut</th>\n",
       "      <th></th>\n",
       "      <th></th>\n",
       "      <th></th>\n",
       "      <th></th>\n",
       "      <th></th>\n",
       "      <th></th>\n",
       "      <th></th>\n",
       "    </tr>\n",
       "  </thead>\n",
       "  <tbody>\n",
       "    <tr>\n",
       "      <th>(164, 296]</th>\n",
       "      <td>1.142107e+08</td>\n",
       "      <td>1.988444e+08</td>\n",
       "      <td>4.403781e+07</td>\n",
       "      <td>6.703152e+07</td>\n",
       "      <td>34856473.38</td>\n",
       "      <td>46868794.14</td>\n",
       "      <td>4.728461e+07</td>\n",
       "    </tr>\n",
       "    <tr>\n",
       "      <th>(296, 297]</th>\n",
       "      <td>2.820926e+08</td>\n",
       "      <td>2.974236e+08</td>\n",
       "      <td>8.638282e+07</td>\n",
       "      <td>1.087225e+08</td>\n",
       "      <td>66708999.32</td>\n",
       "      <td>93821839.89</td>\n",
       "      <td>1.243579e+08</td>\n",
       "    </tr>\n",
       "    <tr>\n",
       "      <th>(297, 303]</th>\n",
       "      <td>9.202619e+07</td>\n",
       "      <td>1.088059e+08</td>\n",
       "      <td>2.727972e+07</td>\n",
       "      <td>3.797304e+07</td>\n",
       "      <td>13899975.69</td>\n",
       "      <td>25078713.47</td>\n",
       "      <td>4.212601e+07</td>\n",
       "    </tr>\n",
       "    <tr>\n",
       "      <th>(303, 329]</th>\n",
       "      <td>8.693125e+07</td>\n",
       "      <td>1.023365e+08</td>\n",
       "      <td>3.183243e+07</td>\n",
       "      <td>4.178581e+07</td>\n",
       "      <td>17688641.30</td>\n",
       "      <td>26724645.07</td>\n",
       "      <td>4.517849e+07</td>\n",
       "    </tr>\n",
       "    <tr>\n",
       "      <th>(329, 376]</th>\n",
       "      <td>8.677291e+07</td>\n",
       "      <td>1.096998e+08</td>\n",
       "      <td>3.932020e+07</td>\n",
       "      <td>4.875448e+07</td>\n",
       "      <td>25066044.74</td>\n",
       "      <td>35462114.81</td>\n",
       "      <td>5.048181e+07</td>\n",
       "    </tr>\n",
       "    <tr>\n",
       "      <th>(376, 422]</th>\n",
       "      <td>9.013959e+07</td>\n",
       "      <td>1.114363e+08</td>\n",
       "      <td>4.335726e+07</td>\n",
       "      <td>5.308974e+07</td>\n",
       "      <td>27523373.05</td>\n",
       "      <td>38225317.50</td>\n",
       "      <td>5.435710e+07</td>\n",
       "    </tr>\n",
       "    <tr>\n",
       "      <th>(422, 665]</th>\n",
       "      <td>8.056267e+07</td>\n",
       "      <td>1.094587e+08</td>\n",
       "      <td>4.393582e+07</td>\n",
       "      <td>5.593331e+07</td>\n",
       "      <td>31504354.04</td>\n",
       "      <td>44612579.24</td>\n",
       "      <td>6.442457e+07</td>\n",
       "    </tr>\n",
       "  </tbody>\n",
       "</table>\n",
       "</div>"
      ],
      "text/plain": [
       "                  overdue_amt_tel                                            \\\n",
       "timing_score_qcut      (554, 556]    (556, 557]    (557, 558]    (558, 559]   \n",
       "xc_score_qcut                                                                 \n",
       "(164, 296]           1.142107e+08  1.988444e+08  4.403781e+07  6.703152e+07   \n",
       "(296, 297]           2.820926e+08  2.974236e+08  8.638282e+07  1.087225e+08   \n",
       "(297, 303]           9.202619e+07  1.088059e+08  2.727972e+07  3.797304e+07   \n",
       "(303, 329]           8.693125e+07  1.023365e+08  3.183243e+07  4.178581e+07   \n",
       "(329, 376]           8.677291e+07  1.096998e+08  3.932020e+07  4.875448e+07   \n",
       "(376, 422]           9.013959e+07  1.114363e+08  4.335726e+07  5.308974e+07   \n",
       "(422, 665]           8.056267e+07  1.094587e+08  4.393582e+07  5.593331e+07   \n",
       "\n",
       "                                                           \n",
       "timing_score_qcut   (559, 560]   (560, 562]    (562, 627]  \n",
       "xc_score_qcut                                              \n",
       "(164, 296]         34856473.38  46868794.14  4.728461e+07  \n",
       "(296, 297]         66708999.32  93821839.89  1.243579e+08  \n",
       "(297, 303]         13899975.69  25078713.47  4.212601e+07  \n",
       "(303, 329]         17688641.30  26724645.07  4.517849e+07  \n",
       "(329, 376]         25066044.74  35462114.81  5.048181e+07  \n",
       "(376, 422]         27523373.05  38225317.50  5.435710e+07  \n",
       "(422, 665]         31504354.04  44612579.24  6.442457e+07  "
      ]
     },
     "execution_count": 46,
     "metadata": {},
     "output_type": "execute_result"
    }
   ],
   "source": [
    "df_temp_cross1.groupby(['xc_score_qcut', 'timing_score_qcut']).sum().unstack()"
   ]
  },
  {
   "cell_type": "code",
   "execution_count": 47,
   "metadata": {},
   "outputs": [
    {
     "data": {
      "text/html": [
       "<div>\n",
       "<style scoped>\n",
       "    .dataframe tbody tr th:only-of-type {\n",
       "        vertical-align: middle;\n",
       "    }\n",
       "\n",
       "    .dataframe tbody tr th {\n",
       "        vertical-align: top;\n",
       "    }\n",
       "\n",
       "    .dataframe thead tr th {\n",
       "        text-align: left;\n",
       "    }\n",
       "\n",
       "    .dataframe thead tr:last-of-type th {\n",
       "        text-align: right;\n",
       "    }\n",
       "</style>\n",
       "<table border=\"1\" class=\"dataframe\">\n",
       "  <thead>\n",
       "    <tr>\n",
       "      <th></th>\n",
       "      <th colspan=\"7\" halign=\"left\">pay_amount_t15</th>\n",
       "    </tr>\n",
       "    <tr>\n",
       "      <th>timing_score_qcut</th>\n",
       "      <th>(554, 556]</th>\n",
       "      <th>(556, 557]</th>\n",
       "      <th>(557, 558]</th>\n",
       "      <th>(558, 559]</th>\n",
       "      <th>(559, 560]</th>\n",
       "      <th>(560, 562]</th>\n",
       "      <th>(562, 627]</th>\n",
       "    </tr>\n",
       "    <tr>\n",
       "      <th>xc_score_qcut</th>\n",
       "      <th></th>\n",
       "      <th></th>\n",
       "      <th></th>\n",
       "      <th></th>\n",
       "      <th></th>\n",
       "      <th></th>\n",
       "      <th></th>\n",
       "    </tr>\n",
       "  </thead>\n",
       "  <tbody>\n",
       "    <tr>\n",
       "      <th>(164, 296]</th>\n",
       "      <td>1324927.40</td>\n",
       "      <td>1825793.98</td>\n",
       "      <td>697233.34</td>\n",
       "      <td>1054405.22</td>\n",
       "      <td>568746.98</td>\n",
       "      <td>760329.55</td>\n",
       "      <td>1077139.98</td>\n",
       "    </tr>\n",
       "    <tr>\n",
       "      <th>(296, 297]</th>\n",
       "      <td>649270.70</td>\n",
       "      <td>1224800.81</td>\n",
       "      <td>288098.32</td>\n",
       "      <td>538494.64</td>\n",
       "      <td>480047.96</td>\n",
       "      <td>408111.32</td>\n",
       "      <td>748252.78</td>\n",
       "    </tr>\n",
       "    <tr>\n",
       "      <th>(297, 303]</th>\n",
       "      <td>479171.53</td>\n",
       "      <td>813070.20</td>\n",
       "      <td>239373.31</td>\n",
       "      <td>403590.64</td>\n",
       "      <td>115419.73</td>\n",
       "      <td>350854.87</td>\n",
       "      <td>564519.26</td>\n",
       "    </tr>\n",
       "    <tr>\n",
       "      <th>(303, 329]</th>\n",
       "      <td>431528.35</td>\n",
       "      <td>612652.11</td>\n",
       "      <td>292237.91</td>\n",
       "      <td>403497.26</td>\n",
       "      <td>171596.63</td>\n",
       "      <td>251297.48</td>\n",
       "      <td>494899.70</td>\n",
       "    </tr>\n",
       "    <tr>\n",
       "      <th>(329, 376]</th>\n",
       "      <td>532511.09</td>\n",
       "      <td>997344.46</td>\n",
       "      <td>370635.93</td>\n",
       "      <td>571213.88</td>\n",
       "      <td>154754.11</td>\n",
       "      <td>496854.29</td>\n",
       "      <td>501715.74</td>\n",
       "    </tr>\n",
       "    <tr>\n",
       "      <th>(376, 422]</th>\n",
       "      <td>689711.97</td>\n",
       "      <td>812456.12</td>\n",
       "      <td>234494.82</td>\n",
       "      <td>340337.31</td>\n",
       "      <td>221014.72</td>\n",
       "      <td>359133.46</td>\n",
       "      <td>720635.78</td>\n",
       "    </tr>\n",
       "    <tr>\n",
       "      <th>(422, 665]</th>\n",
       "      <td>1158671.15</td>\n",
       "      <td>1621695.77</td>\n",
       "      <td>628016.32</td>\n",
       "      <td>812941.58</td>\n",
       "      <td>509420.15</td>\n",
       "      <td>826420.71</td>\n",
       "      <td>1354431.27</td>\n",
       "    </tr>\n",
       "  </tbody>\n",
       "</table>\n",
       "</div>"
      ],
      "text/plain": [
       "                  pay_amount_t15                                     \\\n",
       "timing_score_qcut     (554, 556]  (556, 557] (557, 558]  (558, 559]   \n",
       "xc_score_qcut                                                         \n",
       "(164, 296]            1324927.40  1825793.98  697233.34  1054405.22   \n",
       "(296, 297]             649270.70  1224800.81  288098.32   538494.64   \n",
       "(297, 303]             479171.53   813070.20  239373.31   403590.64   \n",
       "(303, 329]             431528.35   612652.11  292237.91   403497.26   \n",
       "(329, 376]             532511.09   997344.46  370635.93   571213.88   \n",
       "(376, 422]             689711.97   812456.12  234494.82   340337.31   \n",
       "(422, 665]            1158671.15  1621695.77  628016.32   812941.58   \n",
       "\n",
       "                                                     \n",
       "timing_score_qcut (559, 560] (560, 562]  (562, 627]  \n",
       "xc_score_qcut                                        \n",
       "(164, 296]         568746.98  760329.55  1077139.98  \n",
       "(296, 297]         480047.96  408111.32   748252.78  \n",
       "(297, 303]         115419.73  350854.87   564519.26  \n",
       "(303, 329]         171596.63  251297.48   494899.70  \n",
       "(329, 376]         154754.11  496854.29   501715.74  \n",
       "(376, 422]         221014.72  359133.46   720635.78  \n",
       "(422, 665]         509420.15  826420.71  1354431.27  "
      ]
     },
     "execution_count": 47,
     "metadata": {},
     "output_type": "execute_result"
    }
   ],
   "source": [
    "df_temp_cross2.groupby(['xc_score_qcut', 'timing_score_qcut']).sum().unstack()"
   ]
  },
  {
   "cell_type": "code",
   "execution_count": 50,
   "metadata": {},
   "outputs": [],
   "source": [
    "df_temp_cross1_t30 = df_temp_t30[['xc_score_qcut', 'timing_score_qcut', 'overdue_amt_tel']]\n",
    "df_temp_cross2_t30 = df_temp_t30[['xc_score_qcut', 'timing_score_qcut', 'pay_amount_t30']]"
   ]
  },
  {
   "cell_type": "code",
   "execution_count": 52,
   "metadata": {},
   "outputs": [
    {
     "data": {
      "text/html": [
       "<div>\n",
       "<style scoped>\n",
       "    .dataframe tbody tr th:only-of-type {\n",
       "        vertical-align: middle;\n",
       "    }\n",
       "\n",
       "    .dataframe tbody tr th {\n",
       "        vertical-align: top;\n",
       "    }\n",
       "\n",
       "    .dataframe thead tr th {\n",
       "        text-align: left;\n",
       "    }\n",
       "\n",
       "    .dataframe thead tr:last-of-type th {\n",
       "        text-align: right;\n",
       "    }\n",
       "</style>\n",
       "<table border=\"1\" class=\"dataframe\">\n",
       "  <thead>\n",
       "    <tr>\n",
       "      <th></th>\n",
       "      <th colspan=\"7\" halign=\"left\">overdue_amt_tel</th>\n",
       "    </tr>\n",
       "    <tr>\n",
       "      <th>timing_score_qcut</th>\n",
       "      <th>(554, 556]</th>\n",
       "      <th>(556, 557]</th>\n",
       "      <th>(557, 558]</th>\n",
       "      <th>(558, 559]</th>\n",
       "      <th>(559, 560]</th>\n",
       "      <th>(560, 562]</th>\n",
       "      <th>(562, 627]</th>\n",
       "    </tr>\n",
       "    <tr>\n",
       "      <th>xc_score_qcut</th>\n",
       "      <th></th>\n",
       "      <th></th>\n",
       "      <th></th>\n",
       "      <th></th>\n",
       "      <th></th>\n",
       "      <th></th>\n",
       "      <th></th>\n",
       "    </tr>\n",
       "  </thead>\n",
       "  <tbody>\n",
       "    <tr>\n",
       "      <th>(164, 296]</th>\n",
       "      <td>6.958848e+07</td>\n",
       "      <td>1.228233e+08</td>\n",
       "      <td>26451485.24</td>\n",
       "      <td>41415251.62</td>\n",
       "      <td>26210303.09</td>\n",
       "      <td>32387731.97</td>\n",
       "      <td>36338738.57</td>\n",
       "    </tr>\n",
       "    <tr>\n",
       "      <th>(296, 297]</th>\n",
       "      <td>1.744854e+08</td>\n",
       "      <td>1.852156e+08</td>\n",
       "      <td>52037703.59</td>\n",
       "      <td>63943427.55</td>\n",
       "      <td>47494501.02</td>\n",
       "      <td>63548788.76</td>\n",
       "      <td>91959297.69</td>\n",
       "    </tr>\n",
       "    <tr>\n",
       "      <th>(297, 303]</th>\n",
       "      <td>5.350307e+07</td>\n",
       "      <td>5.887869e+07</td>\n",
       "      <td>14596015.79</td>\n",
       "      <td>20309262.10</td>\n",
       "      <td>8521946.72</td>\n",
       "      <td>14293293.79</td>\n",
       "      <td>30385159.47</td>\n",
       "    </tr>\n",
       "    <tr>\n",
       "      <th>(303, 329]</th>\n",
       "      <td>5.165213e+07</td>\n",
       "      <td>5.658882e+07</td>\n",
       "      <td>18827069.82</td>\n",
       "      <td>24325617.42</td>\n",
       "      <td>11084087.67</td>\n",
       "      <td>16360749.35</td>\n",
       "      <td>34362785.09</td>\n",
       "    </tr>\n",
       "    <tr>\n",
       "      <th>(329, 376]</th>\n",
       "      <td>5.105992e+07</td>\n",
       "      <td>6.416042e+07</td>\n",
       "      <td>23545239.69</td>\n",
       "      <td>29384238.30</td>\n",
       "      <td>15707980.60</td>\n",
       "      <td>22356541.24</td>\n",
       "      <td>36972834.15</td>\n",
       "    </tr>\n",
       "    <tr>\n",
       "      <th>(376, 422]</th>\n",
       "      <td>5.029497e+07</td>\n",
       "      <td>5.923174e+07</td>\n",
       "      <td>22492105.57</td>\n",
       "      <td>28930829.49</td>\n",
       "      <td>15166742.47</td>\n",
       "      <td>21466196.79</td>\n",
       "      <td>37998084.61</td>\n",
       "    </tr>\n",
       "    <tr>\n",
       "      <th>(422, 665]</th>\n",
       "      <td>4.517728e+07</td>\n",
       "      <td>6.083460e+07</td>\n",
       "      <td>24077375.97</td>\n",
       "      <td>30247412.96</td>\n",
       "      <td>18397128.40</td>\n",
       "      <td>26466976.13</td>\n",
       "      <td>42578581.51</td>\n",
       "    </tr>\n",
       "  </tbody>\n",
       "</table>\n",
       "</div>"
      ],
      "text/plain": [
       "                  overdue_amt_tel                                          \\\n",
       "timing_score_qcut      (554, 556]    (556, 557]   (557, 558]   (558, 559]   \n",
       "xc_score_qcut                                                               \n",
       "(164, 296]           6.958848e+07  1.228233e+08  26451485.24  41415251.62   \n",
       "(296, 297]           1.744854e+08  1.852156e+08  52037703.59  63943427.55   \n",
       "(297, 303]           5.350307e+07  5.887869e+07  14596015.79  20309262.10   \n",
       "(303, 329]           5.165213e+07  5.658882e+07  18827069.82  24325617.42   \n",
       "(329, 376]           5.105992e+07  6.416042e+07  23545239.69  29384238.30   \n",
       "(376, 422]           5.029497e+07  5.923174e+07  22492105.57  28930829.49   \n",
       "(422, 665]           4.517728e+07  6.083460e+07  24077375.97  30247412.96   \n",
       "\n",
       "                                                          \n",
       "timing_score_qcut   (559, 560]   (560, 562]   (562, 627]  \n",
       "xc_score_qcut                                             \n",
       "(164, 296]         26210303.09  32387731.97  36338738.57  \n",
       "(296, 297]         47494501.02  63548788.76  91959297.69  \n",
       "(297, 303]          8521946.72  14293293.79  30385159.47  \n",
       "(303, 329]         11084087.67  16360749.35  34362785.09  \n",
       "(329, 376]         15707980.60  22356541.24  36972834.15  \n",
       "(376, 422]         15166742.47  21466196.79  37998084.61  \n",
       "(422, 665]         18397128.40  26466976.13  42578581.51  "
      ]
     },
     "execution_count": 52,
     "metadata": {},
     "output_type": "execute_result"
    }
   ],
   "source": [
    "df_temp_cross1_t30.groupby(['xc_score_qcut', 'timing_score_qcut']).sum().unstack()"
   ]
  },
  {
   "cell_type": "code",
   "execution_count": 53,
   "metadata": {},
   "outputs": [
    {
     "data": {
      "text/html": [
       "<div>\n",
       "<style scoped>\n",
       "    .dataframe tbody tr th:only-of-type {\n",
       "        vertical-align: middle;\n",
       "    }\n",
       "\n",
       "    .dataframe tbody tr th {\n",
       "        vertical-align: top;\n",
       "    }\n",
       "\n",
       "    .dataframe thead tr th {\n",
       "        text-align: left;\n",
       "    }\n",
       "\n",
       "    .dataframe thead tr:last-of-type th {\n",
       "        text-align: right;\n",
       "    }\n",
       "</style>\n",
       "<table border=\"1\" class=\"dataframe\">\n",
       "  <thead>\n",
       "    <tr>\n",
       "      <th></th>\n",
       "      <th colspan=\"7\" halign=\"left\">pay_amount_t30</th>\n",
       "    </tr>\n",
       "    <tr>\n",
       "      <th>timing_score_qcut</th>\n",
       "      <th>(554, 556]</th>\n",
       "      <th>(556, 557]</th>\n",
       "      <th>(557, 558]</th>\n",
       "      <th>(558, 559]</th>\n",
       "      <th>(559, 560]</th>\n",
       "      <th>(560, 562]</th>\n",
       "      <th>(562, 627]</th>\n",
       "    </tr>\n",
       "    <tr>\n",
       "      <th>xc_score_qcut</th>\n",
       "      <th></th>\n",
       "      <th></th>\n",
       "      <th></th>\n",
       "      <th></th>\n",
       "      <th></th>\n",
       "      <th></th>\n",
       "      <th></th>\n",
       "    </tr>\n",
       "  </thead>\n",
       "  <tbody>\n",
       "    <tr>\n",
       "      <th>(164, 296]</th>\n",
       "      <td>1574965.19</td>\n",
       "      <td>2485737.50</td>\n",
       "      <td>807011.58</td>\n",
       "      <td>1431049.72</td>\n",
       "      <td>755724.50</td>\n",
       "      <td>1058123.80</td>\n",
       "      <td>1423511.58</td>\n",
       "    </tr>\n",
       "    <tr>\n",
       "      <th>(296, 297]</th>\n",
       "      <td>666263.38</td>\n",
       "      <td>1619394.26</td>\n",
       "      <td>429442.78</td>\n",
       "      <td>565193.38</td>\n",
       "      <td>759422.58</td>\n",
       "      <td>685151.06</td>\n",
       "      <td>1014195.66</td>\n",
       "    </tr>\n",
       "    <tr>\n",
       "      <th>(297, 303]</th>\n",
       "      <td>795527.76</td>\n",
       "      <td>855558.20</td>\n",
       "      <td>221260.14</td>\n",
       "      <td>426616.46</td>\n",
       "      <td>180074.39</td>\n",
       "      <td>407002.40</td>\n",
       "      <td>606168.81</td>\n",
       "    </tr>\n",
       "    <tr>\n",
       "      <th>(303, 329]</th>\n",
       "      <td>553831.78</td>\n",
       "      <td>894259.71</td>\n",
       "      <td>438642.82</td>\n",
       "      <td>564050.13</td>\n",
       "      <td>231495.66</td>\n",
       "      <td>265030.93</td>\n",
       "      <td>580569.02</td>\n",
       "    </tr>\n",
       "    <tr>\n",
       "      <th>(329, 376]</th>\n",
       "      <td>588444.77</td>\n",
       "      <td>1297242.02</td>\n",
       "      <td>508664.20</td>\n",
       "      <td>612215.06</td>\n",
       "      <td>202056.34</td>\n",
       "      <td>562451.01</td>\n",
       "      <td>604485.33</td>\n",
       "    </tr>\n",
       "    <tr>\n",
       "      <th>(376, 422]</th>\n",
       "      <td>834758.37</td>\n",
       "      <td>898441.08</td>\n",
       "      <td>268892.28</td>\n",
       "      <td>367328.46</td>\n",
       "      <td>264636.28</td>\n",
       "      <td>398478.44</td>\n",
       "      <td>876411.20</td>\n",
       "    </tr>\n",
       "    <tr>\n",
       "      <th>(422, 665]</th>\n",
       "      <td>1241148.38</td>\n",
       "      <td>1807403.28</td>\n",
       "      <td>578179.71</td>\n",
       "      <td>875639.43</td>\n",
       "      <td>584769.67</td>\n",
       "      <td>898803.74</td>\n",
       "      <td>1556860.65</td>\n",
       "    </tr>\n",
       "  </tbody>\n",
       "</table>\n",
       "</div>"
      ],
      "text/plain": [
       "                  pay_amount_t30                                     \\\n",
       "timing_score_qcut     (554, 556]  (556, 557] (557, 558]  (558, 559]   \n",
       "xc_score_qcut                                                         \n",
       "(164, 296]            1574965.19  2485737.50  807011.58  1431049.72   \n",
       "(296, 297]             666263.38  1619394.26  429442.78   565193.38   \n",
       "(297, 303]             795527.76   855558.20  221260.14   426616.46   \n",
       "(303, 329]             553831.78   894259.71  438642.82   564050.13   \n",
       "(329, 376]             588444.77  1297242.02  508664.20   612215.06   \n",
       "(376, 422]             834758.37   898441.08  268892.28   367328.46   \n",
       "(422, 665]            1241148.38  1807403.28  578179.71   875639.43   \n",
       "\n",
       "                                                      \n",
       "timing_score_qcut (559, 560]  (560, 562]  (562, 627]  \n",
       "xc_score_qcut                                         \n",
       "(164, 296]         755724.50  1058123.80  1423511.58  \n",
       "(296, 297]         759422.58   685151.06  1014195.66  \n",
       "(297, 303]         180074.39   407002.40   606168.81  \n",
       "(303, 329]         231495.66   265030.93   580569.02  \n",
       "(329, 376]         202056.34   562451.01   604485.33  \n",
       "(376, 422]         264636.28   398478.44   876411.20  \n",
       "(422, 665]         584769.67   898803.74  1556860.65  "
      ]
     },
     "execution_count": 53,
     "metadata": {},
     "output_type": "execute_result"
    }
   ],
   "source": [
    "df_temp_cross2_t30.groupby(['xc_score_qcut', 'timing_score_qcut']).sum().unstack()"
   ]
  },
  {
   "cell_type": "markdown",
   "metadata": {},
   "source": [
    "## 分数融合t3"
   ]
  },
  {
   "cell_type": "code",
   "execution_count": 216,
   "metadata": {},
   "outputs": [],
   "source": [
    "x, y = df_temp[['xc_score', 'c_score', 'timing_score']], df_temp['c_label_t3']"
   ]
  },
  {
   "cell_type": "code",
   "execution_count": 217,
   "metadata": {},
   "outputs": [],
   "source": [
    "from sklearn.model_selection import train_test_split\n",
    "\n",
    "X_train, X_val, y_train, y_val = train_test_split(x, y, stratify = y, random_state = 0)"
   ]
  },
  {
   "cell_type": "code",
   "execution_count": 218,
   "metadata": {},
   "outputs": [
    {
     "name": "stderr",
     "output_type": "stream",
     "text": [
      "/notebook/.home/.local/lib/python3.6/site-packages/lightgbm/engine.py:156: UserWarning: Found `early_stopping_round` in params. Will use it instead of argument\n",
      "  warnings.warn(\"Found `{}` in params. Will use it instead of argument\".format(alias))\n"
     ]
    },
    {
     "name": "stdout",
     "output_type": "stream",
     "text": [
      "[LightGBM] [Info] Number of positive: 4396, number of negative: 611793\n",
      "[LightGBM] [Warning] Auto-choosing row-wise multi-threading, the overhead of testing was 0.002114 seconds.\n",
      "You can set `force_row_wise=true` to remove the overhead.\n",
      "And if memory is not enough, you can set `force_col_wise=true`.\n",
      "[LightGBM] [Info] Total Bins 509\n",
      "[LightGBM] [Info] Number of data points in the train set: 616189, number of used features: 3\n",
      "[LightGBM] [Info] [binary:BoostFromScore]: pavg=0.007134 -> initscore=-4.935699\n",
      "[LightGBM] [Info] Start training from score -4.935699\n",
      "Training until validation scores don't improve for 10 rounds\n",
      "[10]\tvalid_0's auc: 0.779668\n",
      "Did not meet early stopping. Best iteration is:\n",
      "[10]\tvalid_0's auc: 0.779668\n"
     ]
    }
   ],
   "source": [
    "import lightgbm as lgb\n",
    "\n",
    "dtrain = lgb.Dataset(X_train, y_train)\n",
    "dval = lgb.Dataset(X_val, y_val)\n",
    "\n",
    "params = {\n",
    "    'metric':'auc',\n",
    "    'learning_rate':0.05,\n",
    "    'objective':'binary',\n",
    "    'max_depth':3,\n",
    "    'early_stopping_round': 10\n",
    "}\n",
    "\n",
    "clf = lgb.train(params, dtrain, num_boost_round = 10, valid_sets = dval, verbose_eval = 10)"
   ]
  },
  {
   "cell_type": "code",
   "execution_count": 219,
   "metadata": {},
   "outputs": [
    {
     "data": {
      "text/plain": [
       "<AxesSubplot:title={'center':'Feature importance'}, xlabel='Feature importance', ylabel='Features'>"
      ]
     },
     "execution_count": 219,
     "metadata": {},
     "output_type": "execute_result"
    },
    {
     "data": {
      "image/png": "[encoded data removed]",
      "text/plain": [
       "<Figure size 432x288 with 1 Axes>"
      ]
     },
     "metadata": {
      "needs_background": "light"
     },
     "output_type": "display_data"
    }
   ],
   "source": [
    "lgb.plot_importance(clf, max_num_features = 20)"
   ]
  },
  {
   "cell_type": "code",
   "execution_count": 220,
   "metadata": {},
   "outputs": [
    {
     "data": {
      "text/plain": [
       "0.4419078292777644"
      ]
     },
     "execution_count": 220,
     "metadata": {},
     "output_type": "execute_result"
    }
   ],
   "source": [
    "preds_lgb_test = clf.predict(X_val)\n",
    "fpr,tpr,thresholds = roc_curve(y_val, preds_lgb_test)\n",
    "ks = max(tpr-fpr)\n",
    "ks"
   ]
  },
  {
   "cell_type": "code",
   "execution_count": 221,
   "metadata": {},
   "outputs": [
    {
     "data": {
      "text/plain": [
       "0.7793825221653002"
      ]
     },
     "execution_count": 221,
     "metadata": {},
     "output_type": "execute_result"
    }
   ],
   "source": [
    "preds_lgb_train = clf.predict(X_train)\n",
    "fpr,tpr,thresholds = roc_curve(y_train, preds_lgb_train)\n",
    "a = auc(fpr, tpr)\n",
    "a"
   ]
  },
  {
   "cell_type": "markdown",
   "metadata": {},
   "source": [
    "## 分数融合t15"
   ]
  },
  {
   "cell_type": "code",
   "execution_count": 222,
   "metadata": {},
   "outputs": [],
   "source": [
    "x, y = df_temp[['xc_score', 'c_score', 'timing_score']], df_temp['c_label_t15']"
   ]
  },
  {
   "cell_type": "code",
   "execution_count": 223,
   "metadata": {},
   "outputs": [],
   "source": [
    "from sklearn.model_selection import train_test_split\n",
    "\n",
    "X_train, X_val, y_train, y_val = train_test_split(x, y, stratify = y, random_state = 0)"
   ]
  },
  {
   "cell_type": "code",
   "execution_count": 224,
   "metadata": {},
   "outputs": [
    {
     "name": "stderr",
     "output_type": "stream",
     "text": [
      "/notebook/.home/.local/lib/python3.6/site-packages/lightgbm/engine.py:156: UserWarning: Found `early_stopping_round` in params. Will use it instead of argument\n",
      "  warnings.warn(\"Found `{}` in params. Will use it instead of argument\".format(alias))\n"
     ]
    },
    {
     "name": "stdout",
     "output_type": "stream",
     "text": [
      "[LightGBM] [Info] Number of positive: 18695, number of negative: 597494\n",
      "[LightGBM] [Warning] Auto-choosing row-wise multi-threading, the overhead of testing was 0.002839 seconds.\n",
      "You can set `force_row_wise=true` to remove the overhead.\n",
      "And if memory is not enough, you can set `force_col_wise=true`.\n",
      "[LightGBM] [Info] Total Bins 516\n",
      "[LightGBM] [Info] Number of data points in the train set: 616189, number of used features: 3\n",
      "[LightGBM] [Info] [binary:BoostFromScore]: pavg=0.030340 -> initscore=-3.464488\n",
      "[LightGBM] [Info] Start training from score -3.464488\n",
      "Training until validation scores don't improve for 10 rounds\n",
      "[10]\tvalid_0's auc: 0.722386\n",
      "Did not meet early stopping. Best iteration is:\n",
      "[10]\tvalid_0's auc: 0.722386\n"
     ]
    }
   ],
   "source": [
    "import lightgbm as lgb\n",
    "\n",
    "dtrain = lgb.Dataset(X_train, y_train)\n",
    "dval = lgb.Dataset(X_val, y_val)\n",
    "\n",
    "params = {\n",
    "    'metric':'auc',\n",
    "    'learning_rate':0.05,\n",
    "    'objective':'binary',\n",
    "    'max_depth':3,\n",
    "    'early_stopping_round': 10\n",
    "}\n",
    "\n",
    "clf = lgb.train(params, dtrain, num_boost_round = 10, valid_sets = dval, verbose_eval = 10)"
   ]
  },
  {
   "cell_type": "code",
   "execution_count": 225,
   "metadata": {},
   "outputs": [
    {
     "data": {
      "text/plain": [
       "<AxesSubplot:title={'center':'Feature importance'}, xlabel='Feature importance', ylabel='Features'>"
      ]
     },
     "execution_count": 225,
     "metadata": {},
     "output_type": "execute_result"
    },
    {
     "data": {
      "image/png": "[encoded data removed]",
      "text/plain": [
       "<Figure size 432x288 with 1 Axes>"
      ]
     },
     "metadata": {
      "needs_background": "light"
     },
     "output_type": "display_data"
    }
   ],
   "source": [
    "lgb.plot_importance(clf, max_num_features = 20)"
   ]
  },
  {
   "cell_type": "code",
   "execution_count": 226,
   "metadata": {},
   "outputs": [
    {
     "data": {
      "text/plain": [
       "0.33144649208906746"
      ]
     },
     "execution_count": 226,
     "metadata": {},
     "output_type": "execute_result"
    }
   ],
   "source": [
    "preds_lgb_test = clf.predict(X_val)\n",
    "fpr,tpr,thresholds = roc_curve(y_val, preds_lgb_test)\n",
    "ks = max(tpr-fpr)\n",
    "ks"
   ]
  },
  {
   "cell_type": "code",
   "execution_count": 228,
   "metadata": {},
   "outputs": [
    {
     "data": {
      "text/plain": [
       "0.7229007421514264"
      ]
     },
     "execution_count": 228,
     "metadata": {},
     "output_type": "execute_result"
    }
   ],
   "source": [
    "preds_lgb_train = clf.predict(X_train)\n",
    "fpr,tpr,thresholds = roc_curve(y_train, preds_lgb_train)\n",
    "a = auc(fpr, tpr)\n",
    "a"
   ]
  },
  {
   "cell_type": "markdown",
   "metadata": {},
   "source": [
    "## 分数融合t30"
   ]
  },
  {
   "cell_type": "code",
   "execution_count": 229,
   "metadata": {},
   "outputs": [],
   "source": [
    "x, y = df_temp_t30[['xc_score', 'c_score', 'timing_score']], df_temp_t30['c_label_t30']"
   ]
  },
  {
   "cell_type": "code",
   "execution_count": 230,
   "metadata": {},
   "outputs": [],
   "source": [
    "from sklearn.model_selection import train_test_split\n",
    "\n",
    "X_train, X_val, y_train, y_val = train_test_split(x, y, stratify = y, random_state = 0)"
   ]
  },
  {
   "cell_type": "code",
   "execution_count": 231,
   "metadata": {},
   "outputs": [
    {
     "name": "stderr",
     "output_type": "stream",
     "text": [
      "/notebook/.home/.local/lib/python3.6/site-packages/lightgbm/engine.py:156: UserWarning: Found `early_stopping_round` in params. Will use it instead of argument\n",
      "  warnings.warn(\"Found `{}` in params. Will use it instead of argument\".format(alias))\n"
     ]
    },
    {
     "name": "stdout",
     "output_type": "stream",
     "text": [
      "[LightGBM] [Info] Number of positive: 20227, number of negative: 356798\n",
      "[LightGBM] [Warning] Auto-choosing col-wise multi-threading, the overhead of testing was 1.212062 seconds.\n",
      "You can set `force_col_wise=true` to remove the overhead.\n",
      "[LightGBM] [Info] Total Bins 513\n",
      "[LightGBM] [Info] Number of data points in the train set: 377025, number of used features: 3\n",
      "[LightGBM] [Info] [binary:BoostFromScore]: pavg=0.053649 -> initscore=-2.870151\n",
      "[LightGBM] [Info] Start training from score -2.870151\n",
      "Training until validation scores don't improve for 10 rounds\n",
      "[10]\tvalid_0's auc: 0.712326\n",
      "Did not meet early stopping. Best iteration is:\n",
      "[10]\tvalid_0's auc: 0.712326\n"
     ]
    }
   ],
   "source": [
    "import lightgbm as lgb\n",
    "\n",
    "dtrain = lgb.Dataset(X_train, y_train)\n",
    "dval = lgb.Dataset(X_val, y_val)\n",
    "\n",
    "params = {\n",
    "    'metric':'auc',\n",
    "    'learning_rate':0.05,\n",
    "    'objective':'binary',\n",
    "    'max_depth':3,\n",
    "    'early_stopping_round': 10\n",
    "}\n",
    "\n",
    "clf = lgb.train(params, dtrain, num_boost_round = 10, valid_sets = dval, verbose_eval = 10)"
   ]
  },
  {
   "cell_type": "code",
   "execution_count": 232,
   "metadata": {},
   "outputs": [
    {
     "data": {
      "text/plain": [
       "<AxesSubplot:title={'center':'Feature importance'}, xlabel='Feature importance', ylabel='Features'>"
      ]
     },
     "execution_count": 232,
     "metadata": {},
     "output_type": "execute_result"
    },
    {
     "data": {
      "image/png": "[encoded data removed]",
      "text/plain": [
       "<Figure size 432x288 with 1 Axes>"
      ]
     },
     "metadata": {
      "needs_background": "light"
     },
     "output_type": "display_data"
    }
   ],
   "source": [
    "lgb.plot_importance(clf, max_num_features = 20)"
   ]
  },
  {
   "cell_type": "code",
   "execution_count": 233,
   "metadata": {},
   "outputs": [
    {
     "data": {
      "text/plain": [
       "0.3110845195935333"
      ]
     },
     "execution_count": 233,
     "metadata": {},
     "output_type": "execute_result"
    }
   ],
   "source": [
    "preds_lgb_test = clf.predict(X_val)\n",
    "fpr,tpr,thresholds = roc_curve(y_val, preds_lgb_test)\n",
    "ks = max(tpr-fpr)\n",
    "ks"
   ]
  },
  {
   "cell_type": "code",
   "execution_count": 234,
   "metadata": {},
   "outputs": [
    {
     "data": {
      "text/plain": [
       "0.7137723505043245"
      ]
     },
     "execution_count": 234,
     "metadata": {},
     "output_type": "execute_result"
    }
   ],
   "source": [
    "preds_lgb_train = clf.predict(X_train)\n",
    "fpr,tpr,thresholds = roc_curve(y_train, preds_lgb_train)\n",
    "a = auc(fpr, tpr)\n",
    "a"
   ]
  },
  {
   "cell_type": "markdown",
   "metadata": {},
   "source": [
    "## LR实验"
   ]
  },
  {
   "cell_type": "code",
   "execution_count": 172,
   "metadata": {},
   "outputs": [],
   "source": [
    "from sklearn.preprocessing import StandardScaler\n",
    "from sklearn.linear_model import LogisticRegression as LR\n",
    "\n",
    "sc = StandardScaler()\n",
    "sc.fit(X_train)  # 计算均值和方差\n",
    "x_train_std = sc.transform(X_train) #利用计算好的方差和均值进行Z分数标准化\n",
    "x_test_std = sc.transform(X_val)"
   ]
  },
  {
   "cell_type": "code",
   "execution_count": 173,
   "metadata": {},
   "outputs": [
    {
     "data": {
      "text/plain": [
       "LogisticRegression(random_state=0)"
      ]
     },
     "execution_count": 173,
     "metadata": {},
     "output_type": "execute_result"
    }
   ],
   "source": [
    "lr = LR(random_state = 0, max_iter = 100)\n",
    "lr.fit(x_train_std,y_train)"
   ]
  },
  {
   "cell_type": "code",
   "execution_count": 174,
   "metadata": {},
   "outputs": [],
   "source": [
    "fpr,tpr,thresholds = roc_curve(y_val, lr.predict(X_val))"
   ]
  },
  {
   "cell_type": "code",
   "execution_count": 176,
   "metadata": {},
   "outputs": [
    {
     "data": {
      "text/plain": [
       "array([[0.30503366, 0.68016129, 0.15120836]])"
      ]
     },
     "execution_count": 176,
     "metadata": {},
     "output_type": "execute_result"
    }
   ],
   "source": [
    "lr.coef_"
   ]
  },
  {
   "cell_type": "code",
   "execution_count": null,
   "metadata": {},
   "outputs": [],
   "source": []
  }
 ],
 "metadata": {
  "kernelspec": {
   "display_name": "Python 3",
   "language": "python",
   "name": "python3"
  },
  "language_info": {
   "codemirror_mode": {
    "name": "ipython",
    "version": 3
   },
   "file_extension": ".py",
   "mimetype": "text/x-python",
   "name": "python",
   "nbconvert_exporter": "python",
   "pygments_lexer": "ipython3",
   "version": "3.6.10"
  }
 },
 "nbformat": 4,
 "nbformat_minor": 4
}