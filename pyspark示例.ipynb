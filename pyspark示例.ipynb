{
 "cells": [
  {
   "cell_type": "code",
   "execution_count": 1,
   "metadata": {},
   "outputs": [],
   "source": [
    "import os\n",
    "from pyspark.conf import SparkConf\n",
    "from pyspark.context import SparkContext\n",
    "from pyspark.sql import SparkSession \n",
    "from pyspark.conf import SparkConf\n",
    "from pyspark.sql import HiveContext,SparkSession\n",
    "from pyspark.sql.functions import split, explode\n",
    "from pyspark.sql.functions import udf, col, size\n",
    "from pyspark.sql.types import ArrayType, StringType\n",
    "\n",
    "sparkConf = SparkConf()\n",
    "# 设置Driver进程的内存\n",
    "sparkConf.set('spark.driver.memory', '8G')\n",
    "# 设置Driver的CPU core数量\n",
    "sparkConf.set('spark.driver.cores', '4')\n",
    "# 设置Spark作业总共要用多少个Executor进程来执行\n",
    "sparkConf.set(\"spark.executor.instances\", \"500\")\n",
    "# 设置每个Executor进程的CPU core数量\n",
    "sparkConf.set(\"spark.executor.cores\", \"4\")\n",
    "# 设置每个Executor进程的内存\n",
    "sparkConf.set(\"spark.executor.memory\", \"4g\")\n",
    "# 设置Spark应用的名称\n",
    "\n",
    "sparkConf.set(\"spark.app.name\", \"bixiaoyu3\")\n",
    "\n",
    "spark = SparkSession.builder.config(conf=sparkConf).enableHiveSupport().getOrCreate()\n",
    "sc = spark.sparkContext"
   ]
  },
  {
   "cell_type": "code",
   "execution_count": 2,
   "metadata": {},
   "outputs": [],
   "source": [
    "import re\n",
    "import json\n",
    "\n",
    "def get_text(text):\n",
    "    match = []\n",
    "    regex = '.*?([\\u4E00-\\u9FA5]+).*?'\n",
    "    res = re.findall(regex, str(text))\n",
    "    if res:\n",
    "        match.append(res)\n",
    "    \n",
    "    return match\n",
    "\n",
    "def get_cut_words(text):\n",
    "    res = []\n",
    "    try:\n",
    "        for i in text:\n",
    "            seg_list = jieba.cut(i)\n",
    "            res.extend(seg_list)\n",
    "    except:\n",
    "        return res\n",
    "    \n",
    "    return res\n",
    "\n",
    "## 原来的有点Bug，修改了\n",
    "stop = open('hit_stopwords.txt', 'r+', encoding='utf-8')\n",
    "stop_words = stop.read().split(\"\\n\") + [' '] + ['您好'] + ['你好'] + ['请求'] + ['文本']\n",
    "stop.close()\n",
    "def skip_stop_words(text):\n",
    "    res =[]\n",
    "    for word in text:\n",
    "        if word not in stop_words:\n",
    "            res.append(word)\n",
    "            \n",
    "    return res"
   ]
  },
  {
   "cell_type": "code",
   "execution_count": 7,
   "metadata": {},
   "outputs": [
    {
     "data": {
      "text/plain": [
       "<function __main__.jieba_words_human(text, role)>"
      ]
     },
     "execution_count": 7,
     "metadata": {},
     "output_type": "execute_result"
    }
   ],
   "source": [
    "def jieba_words_human(text, role):\n",
    "    try:\n",
    "        import jieba\n",
    "        import re\n",
    "        import json\n",
    "        \n",
    "        if role == 0:\n",
    "            res_user = []\n",
    "            for i in text:\n",
    "                i = json.loads(i)\n",
    "                if i['role'] == 'USER':\n",
    "                    res_user.append(i['text'])\n",
    "            \n",
    "            res_user = get_text(res_user)\n",
    "            res_user_cut = []\n",
    "            try:\n",
    "                for i in res_user[0]:\n",
    "                    seg_list = jieba.cut(i)\n",
    "                    res_user_cut.extend(seg_list)\n",
    "            except:\n",
    "                return []\n",
    "            \n",
    "            return (res_user_cut)\n",
    "        \n",
    "        if role == 1:\n",
    "            res_agent = []\n",
    "\n",
    "            for i in text:\n",
    "                i = json.loads(i)\n",
    "                if i['role'] == 'AGENT':\n",
    "                    res_agent.append(i['text'])\n",
    "        \n",
    "        \n",
    "            res_agent = get_text(res_agent)\n",
    "\n",
    "            res_agent_cut = []\n",
    "\n",
    "            try:\n",
    "                for i in res_agent[0]:\n",
    "                    seg_list = jieba.cut(i)\n",
    "                    res_agent_cut.extend(seg_list)\n",
    "            except:\n",
    "                return []\n",
    "\n",
    "            return (res_agent_cut)\n",
    "           \n",
    "    except Exception as e:\n",
    "        return ['%s' % e]\n",
    "\n",
    "spark.udf.register('jieba_words_human', jieba_words_human, ArrayType(StringType()))"
   ]
  },
  {
   "cell_type": "code",
   "execution_count": 8,
   "metadata": {},
   "outputs": [],
   "source": [
    "df1 = spark.sql('''\n",
    "select \n",
    "    jieba_words_human(text,0) as human_user_jieba,\n",
    "    jieba_words_human(text,1) as human_agent_jieba\n",
    "from \n",
    "    dmr_dev.bxy_overdue_table_with_call_text\n",
    "Where\n",
    "    call_type = 'human'\n",
    "limit 100''')"
   ]
  },
  {
   "cell_type": "code",
   "execution_count": 9,
   "metadata": {},
   "outputs": [
    {
     "data": {
      "text/plain": [
       "DataFrame[human_user_jieba: array<string>, human_agent_jieba: array<string>]"
      ]
     },
     "execution_count": 9,
     "metadata": {},
     "output_type": "execute_result"
    }
   ],
   "source": [
    "df1"
   ]
  },
  {
   "cell_type": "code",
   "execution_count": 10,
   "metadata": {},
   "outputs": [
    {
     "name": "stdout",
     "output_type": "stream",
     "text": [
      "+--------------------+--------------------+\n",
      "|    human_user_jieba|   human_agent_jieba|\n",
      "+--------------------+--------------------+\n",
      "|[Extra data: line...|[Extra data: line...|\n",
      "|                  []|                  []|\n",
      "|[Extra data: line...|[Extra data: line...|\n",
      "|[Extra data: line...|[Extra data: line...|\n",
      "|[Extra data: line...|[Extra data: line...|\n",
      "|[Extra data: line...|[Extra data: line...|\n",
      "|                  []|                  []|\n",
      "|[Extra data: line...|[Extra data: line...|\n",
      "|[Extra data: line...|[Extra data: line...|\n",
      "|[Extra data: line...|[Extra data: line...|\n",
      "+--------------------+--------------------+\n",
      "only showing top 10 rows\n",
      "\n"
     ]
    }
   ],
   "source": [
    "df1.show(10)"
   ]
  },
  {
   "cell_type": "code",
   "execution_count": 7,
   "metadata": {},
   "outputs": [
    {
     "data": {
      "text/plain": [
       "<function __main__.jieba_words_robot(text, role)>"
      ]
     },
     "execution_count": 7,
     "metadata": {},
     "output_type": "execute_result"
    }
   ],
   "source": [
    "def jieba_words_robot(text, role):\n",
    "    try:\n",
    "        import jieba\n",
    "        import re\n",
    "        import json\n",
    "        \n",
    "        if role == 0:\n",
    "            res_user = []\n",
    "            for i in text:\n",
    "                i = json.loads(i)\n",
    "                if i['role'] == 'VOICEIN_CONVERSATION':\n",
    "                    res_user.append(i['text_info'])\n",
    "            \n",
    "            res_user = get_text(res_user)\n",
    "            res_user_cut = []\n",
    "            try:\n",
    "                for i in res_user[0]:\n",
    "                    seg_list = jieba.cut(i)\n",
    "                    res_user_cut.extend(seg_list)\n",
    "            except:\n",
    "                return []\n",
    "            \n",
    "            return (res_user_cut)\n",
    "        \n",
    "        if role == 1:\n",
    "            res_agent = []\n",
    "\n",
    "            for i in text:\n",
    "                i = json.loads(i)\n",
    "                if i['role'] == 'TTS_CONVERSATION':\n",
    "                    res_agent.append(i['text_info'])\n",
    "        \n",
    "        \n",
    "            res_agent = get_text(res_agent)\n",
    "\n",
    "            res_agent_cut = []\n",
    "\n",
    "            try:\n",
    "                for i in res_agent[0]:\n",
    "                    seg_list = jieba.cut(i)\n",
    "                    res_agent_cut.extend(seg_list)\n",
    "            except:\n",
    "                return []\n",
    "\n",
    "            return (res_agent_cut)\n",
    "           \n",
    "    except Exception as e:\n",
    "        return ['%s' % e]\n",
    "\n",
    "spark.udf.register('jieba_words_robot', jieba_words_robot, ArrayType(StringType()))"
   ]
  },
  {
   "cell_type": "code",
   "execution_count": 8,
   "metadata": {},
   "outputs": [],
   "source": [
    "df2 = spark.sql('''\n",
    "select \n",
    "    jieba_words_robot(text, 0) as robot_user_jieba,\n",
    "    jieba_words_robot(text, 1) as robot_agent_jieba\n",
    "from \n",
    "    dmr_dev.bxy_overdue_table_with_call_text\n",
    "Where\n",
    "    call_type = 'robot'\n",
    "limit 100''')"
   ]
  },
  {
   "cell_type": "code",
   "execution_count": 9,
   "metadata": {},
   "outputs": [
    {
     "data": {
      "text/plain": [
       "DataFrame[robot_user_jieba: array<string>, robot_agent_jieba: array<string>]"
      ]
     },
     "execution_count": 9,
     "metadata": {},
     "output_type": "execute_result"
    }
   ],
   "source": [
    "df2"
   ]
  },
  {
   "cell_type": "code",
   "execution_count": 10,
   "metadata": {},
   "outputs": [
    {
     "name": "stdout",
     "output_type": "stream",
     "text": [
      "+--------------------+--------------------+\n",
      "|    robot_user_jieba|   robot_agent_jieba|\n",
      "+--------------------+--------------------+\n",
      "|    [对, 嗯, 我, 知道, 了]|[请求, 文本, 您好, 我, 是...|\n",
      "|                  []|[请求, 文本, 您好, 我, 是...|\n",
      "|[对, 对, 对, 对, 对, 这...|[请求, 文本, 您好, 我, 是...|\n",
      "|    [对, 啊, 哦, 好好, 好]|[请求, 文本, 您好, 我, 是...|\n",
      "|[那样, 的, 问题, 嗯, 嗯,...|[请求, 文本, 您好, 我, 是...|\n",
      "|                  []|[请求, 文本, 您好, 我, 是...|\n",
      "|        [嗯, 是, 啊, 哦]|[请求, 文本, 您好, 我, 是...|\n",
      "|         [客服, 你好, 喂]|[请求, 文本, 您好, 我, 是...|\n",
      "|[嗯, 对, 哦, 好, 行, 我...|[请求, 文本, 您好, 我, 是...|\n",
      "|[对, 呀, 没有, 嗯, 好, ...|[请求, 文本, 您好, 我, 是...|\n",
      "+--------------------+--------------------+\n",
      "only showing top 10 rows\n",
      "\n"
     ]
    }
   ],
   "source": [
    "df2.show(10)"
   ]
  },
  {
   "cell_type": "code",
   "execution_count": 11,
   "metadata": {},
   "outputs": [],
   "source": [
    "##-----------"
   ]
  },
  {
   "cell_type": "code",
   "execution_count": 12,
   "metadata": {},
   "outputs": [],
   "source": [
    "df = spark.sql('''\n",
    "select \n",
    "    *,\n",
    "    Case When call_type = 'human' then jieba_words_human(text, 0)\n",
    "         When call_type = 'robot' then jieba_words_robot(text, 0) End as user_jieba_text,\n",
    "    Case When call_type = 'human' then jieba_words_human(text, 1)\n",
    "         When call_type = 'robot' then jieba_words_robot(text, 1) End as agent_jieba_text\n",
    "from \n",
    "    dmr_dev.bxy_overdue_table_with_call_text\n",
    "''')"
   ]
  },
  {
   "cell_type": "code",
   "execution_count": 13,
   "metadata": {},
   "outputs": [
    {
     "name": "stdout",
     "output_type": "stream",
     "text": [
      "+-----------------+-------+---------+------------+------------------+------------------+-------------------+--------+----------+--------------------+----------+--------------------+--------------------+\n",
      "|              pin|product|call_type|overdue_days|       overdue_amt|           cur_bal|          urge_time|duration|call_round|                text|        dt|     user_jieba_text|    agent_jieba_text|\n",
      "+-----------------+-------+---------+------------+------------------+------------------+-------------------+--------+----------+--------------------+----------+--------------------+--------------------+\n",
      "| jd_5c120056f89fb|   京东白条|    robot|           1|            184.59|            184.69|2020-03-25 12:15:44|    32.0|         4|[{\"role\": \"TTS_CO...|2020-03-25|[哎, 你好, 哪位, 嗯, 有,...|[请求, 文本, 您好, 我, 是...|\n",
      "|        laiweijin|   京东白条|    robot|           1|           1666.34|           4999.84|2020-04-07 13:11:57|    23.0|         3|[{\"role\": \"TTS_CO...|2020-04-07|[哎, 你好, 嗯, 好, 好, ...|[请求, 文本, 您好, 我, 是...|\n",
      "| jd_70def512107c2|   京东金条|    robot|          23|           2439.50|          12331.24|2020-04-28 13:24:50|    44.0|         3|[{\"role\": \"TTS_CO...|2020-04-28|                  []|[请求, 文本, 您好, 我, 是...|\n",
      "|            神盾123|   京东白条|    robot|           4|            377.53|           1168.67|2020-06-19 12:07:16|    50.0|         4|[{\"role\": \"TTS_CO...|2020-06-19|          [是, 的, 您好]|[请求, 文本, 您好, 我, 是...|\n",
      "|    13611808550_p|   京东金条|    robot|           3|           1036.85|           6870.16|2020-05-10 14:13:13|    21.0|         3|[{\"role\": \"TTS_CO...|2020-05-10| [啊, 对, 哦, 我, 知道, 了]|[请求, 文本, 您好, 我, 是...|\n",
      "| jd_65e0772077e59|   京东白条|    robot|           6|            356.94|            398.36|2020-03-22 15:33:19|    47.0|         5|[{\"role\": \"TTS_CO...|2020-03-22|[什么, 事, 啊, 首先, 是,...|[请求, 文本, 您好, 我, 是...|\n",
      "|     huawei958859|   京东白条|    robot|           1|            129.00|            645.07|2020-04-06 16:55:50|    17.0|         3|[{\"role\": \"TTS_CO...|2020-04-06|[对, 呀, 好, 的, 我, 知...|[请求, 文本, 您好, 我, 是...|\n",
      "| jd_54b18ad81b4b9|   京东白条|    robot|           1|            198.43|           3361.98|2020-04-12 15:52:23|    37.0|         4|[{\"role\": \"TTS_CO...|2020-04-12|[哎, 理解, 嗯, 好好, 好,...|[请求, 文本, 您好, 我, 是...|\n",
      "|   wdJQsuvuwZlVUd|   京东金条|    robot|           1|            211.78|           1926.87|2020-08-02 16:38:37|    26.0|         3|[{\"role\": \"TTS_CO...|2020-08-02|       [对, 我, 知道, 了]|[请求, 文本, 您好, 我, 是...|\n",
      "| jd_53c8bed4f824d|   京东白条|    robot|          15|           1299.13|           2610.12|2020-02-02 17:59:01|    32.0|         5|[{\"role\": \"TTS_CO...|2020-02-02|[嗯, 是, 的, 这边, 哎, ...|[请求, 文本, 您好, 我, 是...|\n",
      "|            tan泡泡|   京东白条|    robot|           1|            134.00|            134.07|2020-08-12 11:12:24|    26.0|         3|[{\"role\": \"TTS_CO...|2020-08-12|[啊, 哦, 忘, 了, 都, 忘...|[请求, 文本, 您好, 我, 是...|\n",
      "|      13286319568|   京东白条|    robot|          18|            250.00|            479.05|2020-04-19 19:12:49|     0.0|         0|[{\"role\": \"TTS_CO...|2020-04-19|                  []|[请求, 文本, 您好, 我, 是...|\n",
      "|            兰静408|   京东白条|    robot|           3|            179.46|            818.31|2020-05-10 13:55:39|     5.0|         1|[{\"role\": \"TTS_CO...|2020-05-10|                  []|[请求, 文本, 您好, 我, 是...|\n",
      "|    LJ13977106170|   京东白条|    robot|           8|          11880.48|          16091.29|2020-02-25 12:04:14|    28.0|         4|[{\"role\": \"TTS_CO...|2020-02-25|  [嗯, 喂, 好, 的, 好, 的]|[请求, 文本, 您好, 我, 是...|\n",
      "|              祁永剑|   京东白条|    robot|           1|            643.92|           3075.91|2020-05-26 15:03:23|    26.0|         4|[{\"role\": \"TTS_CO...|2020-05-26|           [嗯, 嗯, 对]|[请求, 文本, 您好, 我, 是...|\n",
      "| jd_576dfd4c99536|   京东白条|    robot|           4|            122.79|            123.85|2020-02-03 09:11:15|    60.0|         6|[{\"role\": \"TTS_CO...|2020-02-03|[对, 我, 跟, 你, 说, 哈...|[请求, 文本, 您好, 我, 是...|\n",
      "| jd_524873b856e88|   京东金条|    robot|           1|            266.06|           1191.25|2020-04-23 19:25:21|    23.0|         3|[{\"role\": \"TTS_CO...|2020-04-23|        [是, 的, 好, 的]|[请求, 文本, 您好, 我, 是...|\n",
      "|    18221819121_p|   京东白条|    robot|           1|            262.55|           1749.46|2020-03-19 12:37:05|    15.0|         2|[{\"role\": \"TTS_CO...|2020-03-19|                 [喂]|[请求, 文本, 您好, 我, 是...|\n",
      "|         sl506520|   京东金条|    robot|          10|            119.78|           2449.54|2020-04-17 16:34:50|    44.0|         3|[{\"role\": \"TTS_CO...|2020-04-17|                  []|[请求, 文本, 您好, 我, 是...|\n",
      "|    jiahongbo0523|   京东金条|    robot|          18|            273.81|            273.81|2020-05-27 11:16:41|    34.0|         4|[{\"role\": \"TTS_CO...|2020-05-27|[嗯, 嗯, 好, 这个, 月, ...|[请求, 文本, 您好, 我, 是...|\n",
      "| jd_6a22a8dee6cc7|   京东金条|    robot|           7|             44.73|           1429.51|2020-08-08 10:18:42|    25.0|         3|[{\"role\": \"TTS_CO...|2020-08-08|   [嗯, 嗯, 可以, 分期, 吗]|[请求, 文本, 您好, 我, 是...|\n",
      "| jd_7bcd0892685b3|   京东白条|    robot|          12|           1617.60|           3468.49|2020-08-03 18:46:26|    27.0|         4|[{\"role\": \"TTS_CO...|2020-08-03|                 [嗯]|[请求, 文本, 您好, 我, 是...|\n",
      "|    13859770106_p|   京东白条|    robot|           3|           4235.79|           4655.88|2020-07-31 14:12:13|     8.0|         1|[{\"role\": \"TTS_CO...|2020-07-31|                  []|[请求, 文本, 您好, 我, 是...|\n",
      "| jd_7b8b2ff9eba6b|   京东金条|    robot|          15|           1019.55|           7886.19|2020-03-27 14:47:25|     5.0|         1|[{\"role\": \"TTS_CO...|2020-03-27|                  []|[请求, 文本, 您好, 我, 是...|\n",
      "| jd_4b43f25f82f84|   京东白条|    robot|          11|            285.76|           5631.88|2020-03-05 12:43:28|    27.0|         3|[{\"role\": \"TTS_CO...|2020-03-05|                  []|[请求, 文本, 您好, 我, 是...|\n",
      "| jd_6529027b59ecf|   京东白条|    robot|          22|            252.96|            531.39|2020-01-27 10:58:37|     5.0|         1|[{\"role\": \"TTS_CO...|2020-01-27|                  []|[请求, 文本, 您好, 我, 是...|\n",
      "|            何牧123|   京东白条|    robot|           6|            204.76|            762.46|2020-08-12 18:17:00|    22.0|         3|[{\"role\": \"TTS_CO...|2020-08-12|           [是, 好, 的]|[请求, 文本, 您好, 我, 是...|\n",
      "|  jd_yRxRRVGHgYOc|   京东金条|    robot|           8|            726.04|           2059.38|2020-03-07 10:40:31|     0.0|         0|[{\"role\": \"TTS_CO...|2020-03-07|                  []|[请求, 文本, 您好, 我, 是...|\n",
      "| jd_5a44a1e6c9929|   京东白条|    robot|          10|            444.98|            447.97|2020-03-07 14:52:39|    19.0|         3|[{\"role\": \"TTS_CO...|2020-03-07|           [说, 好, 好]|[请求, 文本, 您好, 我, 是...|\n",
      "|zhaoyang656243387|   京东金条|    robot|           4|            688.64|          18601.33|2020-03-07 12:15:10|    27.0|         4|[{\"role\": \"TTS_CO...|2020-03-07|[啊, 对, 哪位, 哎, 你好,...|[请求, 文本, 您好, 我, 是...|\n",
      "| jd_6f70d570fb0a0|   京东白条|    robot|          21|            244.00|            247.56|2020-02-05 12:02:02|     0.0|         0|[{\"role\": \"TTS_CO...|2020-02-05|                  []|[请求, 文本, 您好, 我, 是...|\n",
      "| jd_612ab0d5cd49c|   京东白条|    robot|           6|            915.44|           3017.15|2020-02-16 18:08:27|    34.0|         4|[{\"role\": \"TTS_CO...|2020-02-16|[哎, 对, 嗯, 嗯, 可能, ...|[请求, 文本, 您好, 我, 是...|\n",
      "| jd_446655d64716f|   京东白条|    robot|          20|            232.43|           3743.21|2020-03-24 09:22:17|    18.0|         2|[{\"role\": \"TTS_CO...|2020-03-24|[来自, 腾讯, 手机, 管家, ...|[请求, 文本, 您好, 我, 是...|\n",
      "|  jd_qUhVEmeJYNjX|   京东白条|    robot|          14|            646.99|          12015.34|2020-06-26 10:47:06|    40.0|         4|[{\"role\": \"TTS_CO...|2020-06-26|[嗯, 好, 吧, 怎么, 了, ...|[请求, 文本, 您好, 我, 是...|\n",
      "| jd_7892ab123eddd|   京东金条|    robot|           4|            370.75|           1704.07|2020-08-15 17:48:32|    12.0|         2|[{\"role\": \"TTS_CO...|2020-08-15|              [嗯, 对]|[请求, 文本, 您好, 我, 是...|\n",
      "| jd_6195499c7d5d1|   京东白条|    robot|           6|           1014.00|           1022.99|2020-02-12 10:58:16|     6.0|         1|[{\"role\": \"TTS_CO...|2020-02-12|                  []|[请求, 文本, 您好, 我, 是...|\n",
      "| jd_7056ff9c5fca8|   京东白条|    robot|           4|            993.00|            2981.6|2020-05-05 15:32:24|    17.0|         2|[{\"role\": \"TTS_CO...|2020-05-05|           [嗯, 对, 的]|[请求, 文本, 您好, 我, 是...|\n",
      "| jd_6cb2f9d38b637|   京东白条|    robot|          25|            227.55|           1141.73|2020-08-24 11:34:38|    11.0|         2|[{\"role\": \"TTS_CO...|2020-08-24|[在, 什么, 地方, 我, 电话...|[请求, 文本, 您好, 我, 是...|\n",
      "|  jd_IFQnQOKalVHb|   京东白条|    robot|          11|            264.26|           1649.25|2020-03-31 13:38:28|     0.0|         0|[{\"role\": \"TTS_CO...|2020-03-31|                  []|[请求, 文本, 您好, 我, 是...|\n",
      "|    18613179446_p|   京东白条|    robot|           4|            342.62|           1352.04|2020-02-06 19:57:34|     9.0|         1|[{\"role\": \"TTS_CO...|2020-02-06|                  []|[请求, 文本, 您好, 我, 是...|\n",
      "|    15828882408_p|   京东金条|    human|           6|            541.67|            4916.7|2020-03-19 13:09:38|    57.0|         7|[{\"emotion_list\":...|2020-03-19|                  []|[嗯, 好, 的, 您好, 这边,...|\n",
      "|    17714071091_p|   京东金条|    human|          50|             750.0|            2850.0|2020-06-18 12:04:23|    50.0|        12|[{\"emotion_list\":...|2020-06-19|[嗯, 啊, 我, 那个, 你, ...|[您, 的, 京东, 金条, 的,...|\n",
      "| jd_471f3df5c8076|   京东白条|    human|         912|           4850.95|           4850.95|2020-05-23 14:34:30|    59.0|        16|[{\"emotion_list\":...|2020-05-23|[嗯, 嗯, 你, 说, 嗯, 没...|[喂, 哎, 喂, 你好, 我, ...|\n",
      "| jd_49bb11cfc9344|   京东白条|    human|        null|              null|              null|2020-04-07 15:33:16|    36.0|         8|[{\"emotion_list\":...|2020-04-08|[喂, 哎, 对, 哦, 嗯, 嗯...|[嗯, 好, 的, 您好, 我们,...|\n",
      "| jd_502799baefcf3|   京东金条|    human|        null|              null|              null|2020-06-09 10:44:42|    16.0|         3|[{\"emotion_list\":...|2020-06-10|      [可以, 啊, 不是, 啊]|[你好, 请问, 是, 杨, 号,...|\n",
      "| jd_593cfe8f3f410|   京东金条|    human|           7|            2200.0|            2200.0|2020-03-06 17:55:10|    56.0|         8|[{\"emotion_list\":...|2020-03-07|[喂喂, 哎, 对, 我, 昨天,...|[喂, 你好, 请问, 是, 安,...|\n",
      "| jd_640967f917c9c|   京东白条|    human|        1024|           1221.22|           1221.22|2020-08-13 13:11:56|    29.0|         3|[{\"emotion_list\":...|2020-08-13|                  []|[哎, 张, 先生, 您好, 昨天...|\n",
      "| jd_713e181e2732d|   京东白条|    human|          12|11677.019999999999|12693.159999999994|2020-03-14 18:53:45|    74.0|        20|[{\"emotion_list\":...|2020-03-14|[嗯, 嗯, 嗯, 嗯, 对, 嗯...|[您好, 嗯, 我们, 这边, 是...|\n",
      "| jd_7c6cdbdd744c1|   京东金条|    human|        null|              null|              null|2020-07-10 09:41:28|   115.0|        28|[{\"emotion_list\":...|2020-07-10|[嗯, 嗯, 没有, 啊, 嗯, ...|[喂, 你好, 哎, 你好, 我,...|\n",
      "|    15204513126_p|   京东白条|    human|         435|            2349.0|            2349.0|2020-04-22 10:22:32|    25.0|         7|[{\"emotion_list\":...|2020-04-23|[喂, 你好, 认识, 啊, 没有...|[啊, 喂, 喂, 哎, 你好, ...|\n",
      "+-----------------+-------+---------+------------+------------------+------------------+-------------------+--------+----------+--------------------+----------+--------------------+--------------------+\n",
      "only showing top 50 rows\n",
      "\n"
     ]
    }
   ],
   "source": [
    "df.show(50)"
   ]
  },
  {
   "cell_type": "code",
   "execution_count": 14,
   "metadata": {},
   "outputs": [
    {
     "data": {
      "text/plain": [
       "DataFrame[]"
      ]
     },
     "execution_count": 14,
     "metadata": {},
     "output_type": "execute_result"
    }
   ],
   "source": [
    "spark.sql('drop table if exists dmr_dev.bxy_overdue_table_with_call_text_jieba')\n",
    "spark.sql('''\n",
    "Create Table dmr_dev.bxy_overdue_table_with_call_text_jieba as\n",
    "select \n",
    "    *,\n",
    "    Case When call_type = 'human' then jieba_words_human(text, 0)\n",
    "         When call_type = 'robot' then jieba_words_robot(text, 0) End as user_jieba_text,\n",
    "    Case When call_type = 'human' then jieba_words_human(text, 1)\n",
    "         When call_type = 'robot' then jieba_words_robot(text, 1) End as agent_jieba_text\n",
    "from \n",
    "    dmr_dev.bxy_overdue_table_with_call_text''')"
   ]
  },
  {
   "cell_type": "code",
   "execution_count": 15,
   "metadata": {},
   "outputs": [
    {
     "data": {
      "text/plain": [
       "'application_1597575444192_2325529'"
      ]
     },
     "execution_count": 15,
     "metadata": {},
     "output_type": "execute_result"
    }
   ],
   "source": [
    "sc.applicationId"
   ]
  },
  {
   "cell_type": "code",
   "execution_count": null,
   "metadata": {},
   "outputs": [],
   "source": []
  }
 ],
 "metadata": {
  "kernelspec": {
   "display_name": "Python 3",
   "language": "python",
   "name": "python3"
  },
  "language_info": {
   "codemirror_mode": {
    "name": "ipython",
    "version": 3
   },
   "file_extension": ".py",
   "mimetype": "text/x-python",
   "name": "python",
   "nbconvert_exporter": "python",
   "pygments_lexer": "ipython3",
   "version": "3.6.10"
  }
 },
 "nbformat": 4,
 "nbformat_minor": 4
}
