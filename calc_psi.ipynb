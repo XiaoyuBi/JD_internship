{
 "cells": [
  {
   "cell_type": "code",
   "execution_count": 2,
   "metadata": {},
   "outputs": [],
   "source": [
    "import pandas as pd\n",
    "import numpy as np"
   ]
  },
  {
   "cell_type": "code",
   "execution_count": 3,
   "metadata": {},
   "outputs": [],
   "source": [
    "df_bt = pd.read_csv('bt_score.txt', header=0, sep='\\t')\n",
    "df_jt = pd.read_csv('jt_score.txt', header=0, sep='\\t')"
   ]
  },
  {
   "cell_type": "code",
   "execution_count": 5,
   "metadata": {},
   "outputs": [
    {
     "data": {
      "text/plain": [
       "Index(['2020-05-01', '2020-05-02', '2020-05-03', '2020-05-04', '2020-05-05',\n",
       "       '2020-05-06', '2020-05-07', '2020-05-08', '2020-05-09', '2020-05-10',\n",
       "       '2020-05-11', '2020-05-12', '2020-05-13', '2020-05-14', '2020-05-15',\n",
       "       '2020-05-16', '2020-05-17', '2020-05-18', '2020-05-19', '2020-05-20',\n",
       "       '2020-05-21', '2020-05-22', '2020-05-23', '2020-05-24', '2020-05-25',\n",
       "       '2020-05-26', '2020-05-27', '2020-05-28', '2020-05-29', '2020-05-30',\n",
       "       '2020-05-31', '2020-06-09', '2020-06-10', '2020-06-11', '2020-06-12',\n",
       "       '2020-06-13', '2020-06-14', '2020-06-15', '2020-06-16', '2020-06-17',\n",
       "       '2020-06-18', '2020-06-19', '2020-06-20', '2020-06-21', '2020-06-22',\n",
       "       '2020-06-23', '2020-06-24', '2020-06-25', '2020-06-26'],\n",
       "      dtype='object')"
      ]
     },
     "execution_count": 5,
     "metadata": {},
     "output_type": "execute_result"
    }
   ],
   "source": [
    "df_bt['dt'].value_counts().index.sort_values()"
   ]
  },
  {
   "cell_type": "code",
   "execution_count": 6,
   "metadata": {},
   "outputs": [],
   "source": [
    "date_list1 = ['2020-05-01', '2020-05-02', '2020-05-03', '2020-05-04', '2020-05-05',\n",
    "       '2020-05-06', '2020-05-07', '2020-05-08', '2020-05-09', '2020-05-10',\n",
    "       '2020-05-11', '2020-05-12', '2020-05-13', '2020-05-14', '2020-05-15',\n",
    "       '2020-05-16', '2020-05-17', '2020-05-18', '2020-05-19', '2020-05-20',\n",
    "       '2020-05-21', '2020-05-22', '2020-05-23', '2020-05-24', '2020-05-25',\n",
    "       '2020-05-26', '2020-05-27', '2020-05-28', '2020-05-29', '2020-05-30',\n",
    "                     '2020-06-09', '2020-06-10', '2020-06-11', '2020-06-12',\n",
    "       '2020-06-13', '2020-06-14', '2020-06-15', '2020-06-16', '2020-06-17',\n",
    "       '2020-06-18', '2020-06-19', '2020-06-20', '2020-06-21', '2020-06-22',\n",
    "       '2020-06-23', '2020-06-24', '2020-06-25'              ]\n",
    "date_list2 = [              '2020-05-02', '2020-05-03', '2020-05-04', '2020-05-05',\n",
    "       '2020-05-06', '2020-05-07', '2020-05-08', '2020-05-09', '2020-05-10',\n",
    "       '2020-05-11', '2020-05-12', '2020-05-13', '2020-05-14', '2020-05-15',\n",
    "       '2020-05-16', '2020-05-17', '2020-05-18', '2020-05-19', '2020-05-20',\n",
    "       '2020-05-21', '2020-05-22', '2020-05-23', '2020-05-24', '2020-05-25',\n",
    "       '2020-05-26', '2020-05-27', '2020-05-28', '2020-05-29', '2020-05-30',\n",
    "       '2020-05-31',               '2020-06-10', '2020-06-11', '2020-06-12',\n",
    "       '2020-06-13', '2020-06-14', '2020-06-15', '2020-06-16', '2020-06-17',\n",
    "       '2020-06-18', '2020-06-19', '2020-06-20', '2020-06-21', '2020-06-22',\n",
    "       '2020-06-23', '2020-06-24', '2020-06-25', '2020-06-26']"
   ]
  },
  {
   "cell_type": "code",
   "execution_count": 7,
   "metadata": {},
   "outputs": [],
   "source": [
    "def Cal_Psi(score, pre_score, length=10):\n",
    "    import math\n",
    "    labels=['c'+str(i) for i in range(length)]\n",
    "    True_out,bins=pd.qcut(score,q=length,retbins=True,labels=labels)\n",
    "    bins[0] = bins[0]-0.0001 #cut左开右闭，之前最小值再分组后组记号为空，这里减0.0001划到最左侧区间\n",
    "    \n",
    "    Pre_out,bins_=pd.cut(pre_score,bins=bins,retbins=True,labels=labels)\n",
    "    #print(bins_)\n",
    "    \n",
    "    a=pd.DataFrame(pd.Series(True_out).value_counts()).rename(columns={0:'val1'})\n",
    "    a=a.applymap(lambda y : y/len(score)) #计算实际值区间占比\n",
    "    #print(a)\n",
    "    b=pd.DataFrame(pd.Series(Pre_out).value_counts()).rename(columns={0:'val2'})\n",
    "    b=b.applymap(lambda y : y/len(score))  #计算预测值区间占比\n",
    "    #print(b)\n",
    "    re=pd.merge(a,b,left_index=True,right_index=True)\n",
    "    #print(re)\n",
    "    psi=0\n",
    "    for i in range(len(re)):\n",
    "        if re['val1'][i]==0:\n",
    "            re['val1'][i]=0.000001\n",
    "        if re['val2'][i]==0:\n",
    "            re['val2'][i]=0.000001\n",
    "        p=((re['val2'][i]-re['val1'][i])*(math.log((re['val2'][i]/re['val1'][i]))))\n",
    "        \n",
    "        psi=psi+p\n",
    "    return psi"
   ]
  },
  {
   "cell_type": "code",
   "execution_count": 20,
   "metadata": {
    "collapsed": true,
    "jupyter": {
     "outputs_hidden": true,
     "source_hidden": true
    }
   },
   "outputs": [
    {
     "name": "stdout",
     "output_type": "stream",
     "text": [
      "[0.9999 6.     8.    ]\n",
      "        val1\n",
      "c0  0.545455\n",
      "c1  0.454545\n",
      "        val2\n",
      "c0  0.818182\n",
      "c1  0.181818\n",
      "        val1      val2\n",
      "c0  0.545455  0.818182\n",
      "c1  0.454545  0.181818\n"
     ]
    },
    {
     "data": {
      "text/plain": [
       "0.3604788654497235"
      ]
     },
     "execution_count": 20,
     "metadata": {},
     "output_type": "execute_result"
    }
   ],
   "source": [
    "score = [1,2,3,4,5,6,7,8,8,8,8]\n",
    "pre_score = [2,3,4,5,6,7,8,5,5,5,5]\n",
    "Cal_Psi(score, pre_score, length=2)"
   ]
  },
  {
   "cell_type": "code",
   "execution_count": 8,
   "metadata": {},
   "outputs": [],
   "source": [
    "#初始化字典\n",
    "dict_bt_org_score = {}\n",
    "for i in range(len(df_bt)):\n",
    "    dict_bt_org_score[df_bt.iloc[i,0]] = []\n",
    "#填充字典\n",
    "for i in range(len(df_bt)):\n",
    "    dict_bt_org_score[df_bt.iloc[i,0]].append(df_bt.iloc[i,1])\n",
    "#计算PSI\n",
    "res_bt_org_score = {}\n",
    "for index, date in enumerate(date_list1):\n",
    "    res_bt_org_score[date] = Cal_Psi(dict_bt_org_score[date], dict_bt_org_score[date_list2[index]], length=10)"
   ]
  },
  {
   "cell_type": "code",
   "execution_count": null,
   "metadata": {},
   "outputs": [],
   "source": [
    "#初始化字典\n",
    "dict_bt_org_score_cuiji = {}\n",
    "for i in range(len(df_bt)):\n",
    "    dict_bt_org_score_cuiji[df_bt.iloc[i,0]] = []\n",
    "#填充字典\n",
    "for i in range(len(df_bt)):\n",
    "    dict_bt_org_score_cuiji[df_bt.iloc[i,0]].append(df_bt.iloc[i,2])\n",
    "#计算PSI\n",
    "res_bt_org_score_cuiji = {}\n",
    "for index, date in enumerate(date_list1):\n",
    "    res_bt_org_score_cuiji[date] = Cal_Psi(dict_bt_org_score_cuiji[date], dict_bt_org_score_cuiji[date_list2[index]], length=10)"
   ]
  },
  {
   "cell_type": "code",
   "execution_count": null,
   "metadata": {},
   "outputs": [],
   "source": [
    "#初始化字典\n",
    "dict_jt_org_score = {}\n",
    "for i in range(len(df_jt)):\n",
    "    dict_jt_org_score[df_jt.iloc[i,0]] = []\n",
    "#填充字典\n",
    "for i in range(len(df_jt)):\n",
    "    dict_jt_org_score[df_jt.iloc[i,0]].append(df_jt.iloc[i,1])\n",
    "#计算PSI\n",
    "res_jt_org_score = {}\n",
    "for index, date in enumerate(date_list1):\n",
    "    res_jt_org_score[date] = Cal_Psi(dict_jt_org_score[date], dict_jt_org_score[date_list2[index]], length=10)"
   ]
  },
  {
   "cell_type": "code",
   "execution_count": 11,
   "metadata": {},
   "outputs": [],
   "source": [
    "#初始化字典\n",
    "dict_jt_org_score_cuiji = {}\n",
    "for i in range(len(df_jt)):\n",
    "    dict_jt_org_score_cuiji[df_jt.iloc[i,0]] = []\n",
    "#填充字典\n",
    "for i in range(len(df_jt)):\n",
    "    dict_jt_org_score_cuiji[df_jt.iloc[i,0]].append(df_jt.iloc[i,2])\n",
    "#计算PSI\n",
    "res_jt_org_score_cuiji = {}\n",
    "for index, date in enumerate(date_list1):\n",
    "    res_jt_org_score_cuiji[date] = Cal_Psi(dict_jt_org_score_cuiji[date], dict_jt_org_score_cuiji[date_list2[index]], length=10)"
   ]
  },
  {
   "cell_type": "code",
   "execution_count": 12,
   "metadata": {},
   "outputs": [],
   "source": [
    "pd.DataFrame(list(res_bt_org_score.items())).to_csv('bt_org_score.txt', sep = '\\t')\n",
    "pd.DataFrame(list(res_bt_org_score_cuiji.items())).to_csv('bt_org_score_cuiji.txt', sep = '\\t')\n",
    "pd.DataFrame(list(res_jt_org_score.items())).to_csv('jt_org_score.txt', sep = '\\t')\n",
    "pd.DataFrame(list(res_jt_org_score_cuiji.items())).to_csv('jt_org_score_cuiji.txt', sep = '\\t')"
   ]
  },
  {
   "cell_type": "code",
   "execution_count": null,
   "metadata": {},
   "outputs": [],
   "source": []
  }
 ],
 "metadata": {
  "kernelspec": {
   "display_name": "Python 3",
   "language": "python",
   "name": "python3"
  },
  "language_info": {
   "codemirror_mode": {
    "name": "ipython",
    "version": 3
   },
   "file_extension": ".py",
   "mimetype": "text/x-python",
   "name": "python",
   "nbconvert_exporter": "python",
   "pygments_lexer": "ipython3",
   "version": "3.6.10"
  }
 },
 "nbformat": 4,
 "nbformat_minor": 4
}